{
 "cells": [
  {
   "cell_type": "code",
   "execution_count": 2,
   "id": "f647eec5",
   "metadata": {},
   "outputs": [],
   "source": [
    "# Need to export the data on mobile. It comes in a .txt file\n",
    "# I emailed it to myself. "
   ]
  },
  {
   "cell_type": "code",
   "execution_count": 3,
   "id": "fc2a397a",
   "metadata": {},
   "outputs": [
    {
     "name": "stdout",
     "output_type": "stream",
     "text": [
      "Note: you may need to restart the kernel to use updated packages.\n",
      "Requirement already satisfied: pip in c:\\users\\oriordanro\\anaconda3\\lib\\site-packages (22.3.1)Note: you may need to restart the kernel to use updated packages.\n",
      "\n"
     ]
    }
   ],
   "source": [
    "%pip install emoji -q\n",
    "%pip install --upgrade pip"
   ]
  },
  {
   "cell_type": "code",
   "execution_count": 4,
   "id": "70299311",
   "metadata": {},
   "outputs": [
    {
     "name": "stdout",
     "output_type": "stream",
     "text": [
      "Note: you may need to restart the kernel to use updated packages.\n",
      "Requirement already satisfied: pip in c:\\users\\oriordanro\\anaconda3\\lib\\site-packages (22.3.1)\n",
      "Note: you may need to restart the kernel to use updated packages.\n"
     ]
    }
   ],
   "source": [
    "%pip install wordcloud -q\n",
    "%pip install --upgrade pip"
   ]
  },
  {
   "cell_type": "code",
   "execution_count": null,
   "id": "f2984235",
   "metadata": {},
   "outputs": [],
   "source": [
    "# sender_list['sender_icons'] = [\n",
    "#     \"\\U0001F528\",\"\\U0001F37A\",\"\\U0001F37C\",\"\\U0001F37B\",\"\\U0001F528\",\"\\U0001F596\",\"\\U0001F3D0\",\"\\U0001F3BD\",\"\\U0001F3AE\"\n",
    "# ,\"\\U0001F4E3\",\"\\U0001F52A\",\"\\U0001F6EC\",\"\\U0001F985\",\"\\U0001F6F8\",\"\\U0001F4BC\",\"\\U0001F600\",\"\\U0001F6F5\",\"\\U0001F9EA\", \"\\U0001F9CA\", None]"
   ]
  },
  {
   "cell_type": "code",
   "execution_count": 742,
   "id": "0fa3c74c",
   "metadata": {},
   "outputs": [],
   "source": [
    "import re\n",
    "import datetime\n",
    "import numpy as np\n",
    "import pandas as pd\n",
    "import matplotlib.pyplot as plt\n",
    "import matplotlib.ticker as ticker\n",
    "import seaborn as sns\n",
    "from wordcloud import WordCloud, STOPWORDS\n",
    "import emoji\n",
    "import itertools \n",
    "from collections import Counter\n",
    "import warnings\n",
    "import random\n",
    "\n",
    "%matplotlib inline\n",
    "warnings.filterwarnings('ignore')"
   ]
  },
  {
   "cell_type": "code",
   "execution_count": 743,
   "id": "5dfe1366",
   "metadata": {},
   "outputs": [],
   "source": [
    "chat_file = open(\"C:\\\\Users\\\\oriordanro\\\\Downloads\\\\WhatsApp Chat with lads.txt\", encoding=\"utf-8\")"
   ]
  },
  {
   "cell_type": "code",
   "execution_count": 744,
   "id": "f57c8d70",
   "metadata": {},
   "outputs": [],
   "source": [
    "def date_time(s):\n",
    "    pattern = '^([0-9]+)(\\/)([0-9]+)(\\/)([0-9]+), ([0-9]+):([0-9]+)[ ]?(AM|PM|am|pm)? -'\n",
    "    result = re.match(pattern, s)\n",
    "    if result:\n",
    "        return True\n",
    "    return False\n",
    "\n",
    "def find_author(s):\n",
    "    s = s.split(\":\")\n",
    "    if len(s)==2:\n",
    "        return True\n",
    "    else:\n",
    "        return False\n",
    "\n",
    "def getDatapoint(line):\n",
    "    splitline = line.split(' - ')\n",
    "    dateTime = splitline[0]\n",
    "    date, time = dateTime.split(\", \")\n",
    "    message = \" \".join(splitline[1:])\n",
    "    if find_author(message):\n",
    "        splitmessage = message.split(\": \")\n",
    "        author = splitmessage[0]\n",
    "        message = \" \".join(splitmessage[1:])\n",
    "    else:\n",
    "        author= None\n",
    "    return date, time, author, message"
   ]
  },
  {
   "cell_type": "code",
   "execution_count": 745,
   "id": "1a495e8f",
   "metadata": {},
   "outputs": [],
   "source": [
    "data = []\n",
    "conversation = \"C:\\\\Users\\\\oriordanro\\\\Downloads\\\\WhatsApp Chat with lads.txt\"\n",
    "with open(conversation, encoding=\"utf-8\") as fp:\n",
    "    fp.readline()\n",
    "    messageBuffer = []\n",
    "    date, time, author = None, None, None\n",
    "    while True:\n",
    "        line = fp.readline()\n",
    "        if not line:\n",
    "            break\n",
    "        line = line.strip()\n",
    "        if date_time(line):\n",
    "            if len(messageBuffer) > 0:\n",
    "                data.append([date, time, author, ' '.join(messageBuffer)])\n",
    "            messageBuffer.clear()\n",
    "            date, time, author, message = getDatapoint(line)\n",
    "            messageBuffer.append(message)\n",
    "        else:\n",
    "            messageBuffer.append(line)"
   ]
  },
  {
   "cell_type": "code",
   "execution_count": 746,
   "id": "de2a48f5",
   "metadata": {},
   "outputs": [
    {
     "data": {
      "text/html": [
       "<div>\n",
       "<style scoped>\n",
       "    .dataframe tbody tr th:only-of-type {\n",
       "        vertical-align: middle;\n",
       "    }\n",
       "\n",
       "    .dataframe tbody tr th {\n",
       "        vertical-align: top;\n",
       "    }\n",
       "\n",
       "    .dataframe thead th {\n",
       "        text-align: right;\n",
       "    }\n",
       "</style>\n",
       "<table border=\"1\" class=\"dataframe\">\n",
       "  <thead>\n",
       "    <tr style=\"text-align: right;\">\n",
       "      <th></th>\n",
       "      <th>Date</th>\n",
       "      <th>Time</th>\n",
       "      <th>Sender</th>\n",
       "      <th>Message</th>\n",
       "      <th>Timestamp</th>\n",
       "      <th>hour</th>\n",
       "      <th>day</th>\n",
       "      <th>month</th>\n",
       "      <th>year</th>\n",
       "      <th>date</th>\n",
       "    </tr>\n",
       "  </thead>\n",
       "  <tbody>\n",
       "    <tr>\n",
       "      <th>0</th>\n",
       "      <td>2022-10-15</td>\n",
       "      <td>22:49</td>\n",
       "      <td>None</td>\n",
       "      <td>king 🇺🇸 created group \"bse\"</td>\n",
       "      <td>2022-10-15 22:49:00</td>\n",
       "      <td>22:00</td>\n",
       "      <td>Sat</td>\n",
       "      <td>Oct</td>\n",
       "      <td>2022</td>\n",
       "      <td>2022-10-15</td>\n",
       "    </tr>\n",
       "    <tr>\n",
       "      <th>1</th>\n",
       "      <td>2022-10-16</td>\n",
       "      <td>11:24</td>\n",
       "      <td>None</td>\n",
       "      <td>paul added you</td>\n",
       "      <td>2022-10-16 11:24:00</td>\n",
       "      <td>11:00</td>\n",
       "      <td>Sun</td>\n",
       "      <td>Oct</td>\n",
       "      <td>2022</td>\n",
       "      <td>2022-10-16</td>\n",
       "    </tr>\n",
       "    <tr>\n",
       "      <th>2</th>\n",
       "      <td>2022-10-16</td>\n",
       "      <td>11:26</td>\n",
       "      <td>None</td>\n",
       "      <td>you're now an admin</td>\n",
       "      <td>2022-10-16 11:26:00</td>\n",
       "      <td>11:00</td>\n",
       "      <td>Sun</td>\n",
       "      <td>Oct</td>\n",
       "      <td>2022</td>\n",
       "      <td>2022-10-16</td>\n",
       "    </tr>\n",
       "  </tbody>\n",
       "</table>\n",
       "</div>"
      ],
      "text/plain": [
       "        Date   Time Sender                      Message           Timestamp  \\\n",
       "0 2022-10-15  22:49   None  king 🇺🇸 created group \"bse\" 2022-10-15 22:49:00   \n",
       "1 2022-10-16  11:24   None               paul added you 2022-10-16 11:24:00   \n",
       "2 2022-10-16  11:26   None          you're now an admin 2022-10-16 11:26:00   \n",
       "\n",
       "    hour  day month  year        date  \n",
       "0  22:00  Sat   Oct  2022  2022-10-15  \n",
       "1  11:00  Sun   Oct  2022  2022-10-16  \n",
       "2  11:00  Sun   Oct  2022  2022-10-16  "
      ]
     },
     "execution_count": 746,
     "metadata": {},
     "output_type": "execute_result"
    }
   ],
   "source": [
    "# Converting the message text to lower\n",
    "# Adding different date groups\n",
    "\n",
    "df = pd.DataFrame(data, columns=[\"Date\", 'Time', 'Sender', 'Message'])\n",
    "df[\"Timestamp\"] = pd.to_datetime(df[\"Date\"] + ' ' + df[\"Time\"])\n",
    "df['Date'] = pd.to_datetime(df['Date'])\n",
    "df['Message'] = df['Message'].astype(str).str.lower()\n",
    "df['hour'] = df['Timestamp'].dt.strftime('%H:00')\n",
    "df['day'] = df['Date'].dt.strftime('%a')\n",
    "df['month'] = df['Date'].dt.strftime('%b')\n",
    "df['year'] = df['Date'].dt.year\n",
    "df['date'] = df['Date'].apply(lambda x: x.date())\n",
    "\n",
    "\n",
    "df.head(3)"
   ]
  },
  {
   "cell_type": "code",
   "execution_count": 747,
   "id": "76e94f95",
   "metadata": {},
   "outputs": [
    {
     "data": {
      "text/html": [
       "<div>\n",
       "<style scoped>\n",
       "    .dataframe tbody tr th:only-of-type {\n",
       "        vertical-align: middle;\n",
       "    }\n",
       "\n",
       "    .dataframe tbody tr th {\n",
       "        vertical-align: top;\n",
       "    }\n",
       "\n",
       "    .dataframe thead th {\n",
       "        text-align: right;\n",
       "    }\n",
       "</style>\n",
       "<table border=\"1\" class=\"dataframe\">\n",
       "  <thead>\n",
       "    <tr style=\"text-align: right;\">\n",
       "      <th></th>\n",
       "      <th>Date</th>\n",
       "      <th>Time</th>\n",
       "      <th>Message</th>\n",
       "      <th>Timestamp</th>\n",
       "      <th>hour</th>\n",
       "      <th>day</th>\n",
       "      <th>month</th>\n",
       "      <th>year</th>\n",
       "      <th>date</th>\n",
       "      <th>sender_randint</th>\n",
       "    </tr>\n",
       "  </thead>\n",
       "  <tbody>\n",
       "    <tr>\n",
       "      <th>0</th>\n",
       "      <td>2022-10-15</td>\n",
       "      <td>22:49</td>\n",
       "      <td>king 🇺🇸 created group \"bse\"</td>\n",
       "      <td>2022-10-15 22:49:00</td>\n",
       "      <td>22:00</td>\n",
       "      <td>Sat</td>\n",
       "      <td>Oct</td>\n",
       "      <td>2022</td>\n",
       "      <td>2022-10-15</td>\n",
       "      <td>755</td>\n",
       "    </tr>\n",
       "    <tr>\n",
       "      <th>1</th>\n",
       "      <td>2022-10-16</td>\n",
       "      <td>11:24</td>\n",
       "      <td>paul added you</td>\n",
       "      <td>2022-10-16 11:24:00</td>\n",
       "      <td>11:00</td>\n",
       "      <td>Sun</td>\n",
       "      <td>Oct</td>\n",
       "      <td>2022</td>\n",
       "      <td>2022-10-16</td>\n",
       "      <td>755</td>\n",
       "    </tr>\n",
       "    <tr>\n",
       "      <th>2</th>\n",
       "      <td>2022-10-16</td>\n",
       "      <td>11:26</td>\n",
       "      <td>you're now an admin</td>\n",
       "      <td>2022-10-16 11:26:00</td>\n",
       "      <td>11:00</td>\n",
       "      <td>Sun</td>\n",
       "      <td>Oct</td>\n",
       "      <td>2022</td>\n",
       "      <td>2022-10-16</td>\n",
       "      <td>755</td>\n",
       "    </tr>\n",
       "    <tr>\n",
       "      <th>3</th>\n",
       "      <td>2022-10-16</td>\n",
       "      <td>13:38</td>\n",
       "      <td>now king, are you happy now ?</td>\n",
       "      <td>2022-10-16 13:38:00</td>\n",
       "      <td>13:00</td>\n",
       "      <td>Sun</td>\n",
       "      <td>Oct</td>\n",
       "      <td>2022</td>\n",
       "      <td>2022-10-16</td>\n",
       "      <td>155</td>\n",
       "    </tr>\n",
       "    <tr>\n",
       "      <th>4</th>\n",
       "      <td>2022-10-16</td>\n",
       "      <td>13:38</td>\n",
       "      <td>king's shares in meta 📈🚀</td>\n",
       "      <td>2022-10-16 13:38:00</td>\n",
       "      <td>13:00</td>\n",
       "      <td>Sun</td>\n",
       "      <td>Oct</td>\n",
       "      <td>2022</td>\n",
       "      <td>2022-10-16</td>\n",
       "      <td>155</td>\n",
       "    </tr>\n",
       "  </tbody>\n",
       "</table>\n",
       "</div>"
      ],
      "text/plain": [
       "        Date   Time                        Message           Timestamp   hour  \\\n",
       "0 2022-10-15  22:49    king 🇺🇸 created group \"bse\" 2022-10-15 22:49:00  22:00   \n",
       "1 2022-10-16  11:24                 paul added you 2022-10-16 11:24:00  11:00   \n",
       "2 2022-10-16  11:26            you're now an admin 2022-10-16 11:26:00  11:00   \n",
       "3 2022-10-16  13:38  now king, are you happy now ? 2022-10-16 13:38:00  13:00   \n",
       "4 2022-10-16  13:38       king's shares in meta 📈🚀 2022-10-16 13:38:00  13:00   \n",
       "\n",
       "   day month  year        date  sender_randint  \n",
       "0  Sat   Oct  2022  2022-10-15             755  \n",
       "1  Sun   Oct  2022  2022-10-16             755  \n",
       "2  Sun   Oct  2022  2022-10-16             755  \n",
       "3  Sun   Oct  2022  2022-10-16             155  \n",
       "4  Sun   Oct  2022  2022-10-16             155  "
      ]
     },
     "execution_count": 747,
     "metadata": {},
     "output_type": "execute_result"
    }
   ],
   "source": [
    "# Removing sender name and replacing them with random int\n",
    "\n",
    "sender_list = [i for i in df['Sender'].unique()]\n",
    "sender_list = pd.DataFrame(sender_list, columns = ['Sender'])\n",
    "sender_list.sort_values(by = 'Sender', inplace = True)\n",
    "sender_list.reset_index(inplace = True)\n",
    "sender_list.drop(['index'], axis = 1, inplace = True)\n",
    "sender_list['sender_randint'] = [ random.randint(1,1000) for i in sender_list.index]\n",
    "\n",
    "df = df.merge(sender_list, how='left', on = 'Sender')\n",
    "df.drop('Sender', axis = 1, inplace = True)\n",
    "\n",
    "df.head()"
   ]
  },
  {
   "cell_type": "code",
   "execution_count": 748,
   "id": "4e545a27",
   "metadata": {},
   "outputs": [
    {
     "data": {
      "text/html": [
       "<div>\n",
       "<style scoped>\n",
       "    .dataframe tbody tr th:only-of-type {\n",
       "        vertical-align: middle;\n",
       "    }\n",
       "\n",
       "    .dataframe tbody tr th {\n",
       "        vertical-align: top;\n",
       "    }\n",
       "\n",
       "    .dataframe thead th {\n",
       "        text-align: right;\n",
       "    }\n",
       "</style>\n",
       "<table border=\"1\" class=\"dataframe\">\n",
       "  <thead>\n",
       "    <tr style=\"text-align: right;\">\n",
       "      <th></th>\n",
       "      <th>Date</th>\n",
       "      <th>Time</th>\n",
       "      <th>Message</th>\n",
       "      <th>Timestamp</th>\n",
       "      <th>hour</th>\n",
       "      <th>day</th>\n",
       "      <th>month</th>\n",
       "      <th>year</th>\n",
       "      <th>date</th>\n",
       "      <th>sender_randint</th>\n",
       "    </tr>\n",
       "  </thead>\n",
       "  <tbody>\n",
       "    <tr>\n",
       "      <th>0</th>\n",
       "      <td>2022-10-15</td>\n",
       "      <td>22:49</td>\n",
       "      <td>king 🇺🇸 created group \"bse\"</td>\n",
       "      <td>2022-10-15 22:49:00</td>\n",
       "      <td>22:00</td>\n",
       "      <td>Sat</td>\n",
       "      <td>Oct</td>\n",
       "      <td>2022</td>\n",
       "      <td>2022-10-15</td>\n",
       "      <td>755</td>\n",
       "    </tr>\n",
       "    <tr>\n",
       "      <th>1</th>\n",
       "      <td>2022-10-16</td>\n",
       "      <td>11:24</td>\n",
       "      <td>paul added you</td>\n",
       "      <td>2022-10-16 11:24:00</td>\n",
       "      <td>11:00</td>\n",
       "      <td>Sun</td>\n",
       "      <td>Oct</td>\n",
       "      <td>2022</td>\n",
       "      <td>2022-10-16</td>\n",
       "      <td>755</td>\n",
       "    </tr>\n",
       "    <tr>\n",
       "      <th>2</th>\n",
       "      <td>2022-10-16</td>\n",
       "      <td>11:26</td>\n",
       "      <td>you're now an admin</td>\n",
       "      <td>2022-10-16 11:26:00</td>\n",
       "      <td>11:00</td>\n",
       "      <td>Sun</td>\n",
       "      <td>Oct</td>\n",
       "      <td>2022</td>\n",
       "      <td>2022-10-16</td>\n",
       "      <td>755</td>\n",
       "    </tr>\n",
       "    <tr>\n",
       "      <th>3</th>\n",
       "      <td>2022-10-16</td>\n",
       "      <td>13:38</td>\n",
       "      <td>now king, are you happy now ?</td>\n",
       "      <td>2022-10-16 13:38:00</td>\n",
       "      <td>13:00</td>\n",
       "      <td>Sun</td>\n",
       "      <td>Oct</td>\n",
       "      <td>2022</td>\n",
       "      <td>2022-10-16</td>\n",
       "      <td>155</td>\n",
       "    </tr>\n",
       "    <tr>\n",
       "      <th>4</th>\n",
       "      <td>2022-10-16</td>\n",
       "      <td>13:38</td>\n",
       "      <td>king's shares in meta 📈🚀</td>\n",
       "      <td>2022-10-16 13:38:00</td>\n",
       "      <td>13:00</td>\n",
       "      <td>Sun</td>\n",
       "      <td>Oct</td>\n",
       "      <td>2022</td>\n",
       "      <td>2022-10-16</td>\n",
       "      <td>155</td>\n",
       "    </tr>\n",
       "  </tbody>\n",
       "</table>\n",
       "</div>"
      ],
      "text/plain": [
       "        Date   Time                        Message           Timestamp   hour  \\\n",
       "0 2022-10-15  22:49    king 🇺🇸 created group \"bse\" 2022-10-15 22:49:00  22:00   \n",
       "1 2022-10-16  11:24                 paul added you 2022-10-16 11:24:00  11:00   \n",
       "2 2022-10-16  11:26            you're now an admin 2022-10-16 11:26:00  11:00   \n",
       "3 2022-10-16  13:38  now king, are you happy now ? 2022-10-16 13:38:00  13:00   \n",
       "4 2022-10-16  13:38       king's shares in meta 📈🚀 2022-10-16 13:38:00  13:00   \n",
       "\n",
       "   day month  year        date  sender_randint  \n",
       "0  Sat   Oct  2022  2022-10-15             755  \n",
       "1  Sun   Oct  2022  2022-10-16             755  \n",
       "2  Sun   Oct  2022  2022-10-16             755  \n",
       "3  Sun   Oct  2022  2022-10-16             155  \n",
       "4  Sun   Oct  2022  2022-10-16             155  "
      ]
     },
     "execution_count": 748,
     "metadata": {},
     "output_type": "execute_result"
    }
   ],
   "source": [
    "# Using a copy of the original data frame everytime, to avoid loss of data!\n",
    "\n",
    "df1 = df.copy()     \n",
    "\n",
    "df1.head()"
   ]
  },
  {
   "cell_type": "markdown",
   "id": "b3435f49",
   "metadata": {},
   "source": [
    "# Message Count"
   ]
  },
  {
   "cell_type": "markdown",
   "id": "9908e436",
   "metadata": {},
   "source": [
    "## Sender message count"
   ]
  },
  {
   "cell_type": "code",
   "execution_count": 749,
   "id": "5edd27d6",
   "metadata": {
    "collapsed": true
   },
   "outputs": [
    {
     "name": "stdout",
     "output_type": "stream",
     "text": [
      "sender_randint\n",
      "865    146\n",
      "155    118\n",
      "513    116\n",
      "192     73\n",
      "642     54\n",
      "130     39\n",
      "175     29\n",
      "763     29\n",
      "923     26\n",
      "489     24\n",
      "755     22\n",
      "548     17\n",
      "667     17\n",
      "566     13\n",
      "383      9\n",
      "445      8\n",
      "590      6\n",
      "12       5\n",
      "332      3\n",
      "150      3\n",
      "Name: Message, dtype: int64\n"
     ]
    }
   ],
   "source": [
    "sender_message_count = df1.groupby(\"sender_randint\").count()[\"Message\"].sort_values(ascending = False)\n",
    "print(sender_message_count)"
   ]
  },
  {
   "cell_type": "markdown",
   "id": "3ccd1545",
   "metadata": {},
   "source": [
    "## Daily message Count"
   ]
  },
  {
   "cell_type": "code",
   "execution_count": 750,
   "id": "ea944b5e",
   "metadata": {
    "collapsed": true
   },
   "outputs": [
    {
     "name": "stdout",
     "output_type": "stream",
     "text": [
      "Date\n",
      "2022-10-15      1\n",
      "2022-10-16    156\n",
      "2022-10-17      3\n",
      "2022-10-18      1\n",
      "2022-10-19      7\n",
      "2022-10-20      9\n",
      "2022-10-22    133\n",
      "2022-10-23     32\n",
      "2022-10-24     18\n",
      "2022-10-25      7\n",
      "2022-10-26      4\n",
      "2022-10-29      2\n",
      "2022-10-30     32\n",
      "2022-10-31     20\n",
      "2022-11-01     18\n",
      "2022-11-03      8\n",
      "2022-11-06      3\n",
      "2022-11-07      4\n",
      "2022-11-09      2\n",
      "2022-11-10      3\n",
      "2022-11-12    192\n",
      "2022-11-13     11\n",
      "2022-11-15      6\n",
      "2022-11-18     53\n",
      "2022-11-20      1\n",
      "2022-11-24      1\n",
      "2022-11-25      3\n",
      "2022-11-26     10\n",
      "2022-11-27     16\n",
      "2022-11-30      1\n",
      "Name: Message, dtype: int64\n"
     ]
    }
   ],
   "source": [
    "daily_message_count = df1.groupby(\"Date\").count()[\"Message\"]\n",
    "print(daily_message_count)"
   ]
  },
  {
   "cell_type": "markdown",
   "id": "1838f700",
   "metadata": {},
   "source": [
    "## Hour Message Count"
   ]
  },
  {
   "cell_type": "code",
   "execution_count": 751,
   "id": "33e913e2",
   "metadata": {
    "collapsed": true
   },
   "outputs": [
    {
     "name": "stdout",
     "output_type": "stream",
     "text": [
      "hour\n",
      "00:00     27\n",
      "01:00      9\n",
      "02:00     13\n",
      "03:00      5\n",
      "05:00      2\n",
      "06:00      1\n",
      "08:00      5\n",
      "09:00      7\n",
      "10:00      8\n",
      "11:00     32\n",
      "12:00     12\n",
      "13:00     23\n",
      "14:00    192\n",
      "15:00    183\n",
      "16:00     67\n",
      "17:00     23\n",
      "18:00     22\n",
      "19:00     42\n",
      "20:00     15\n",
      "21:00     28\n",
      "22:00     24\n",
      "23:00     17\n",
      "Name: Message, dtype: int64\n"
     ]
    }
   ],
   "source": [
    "hour_message_count = df1.groupby(\"hour\").count()[\"Message\"]\n",
    "print(hour_message_count)"
   ]
  },
  {
   "cell_type": "code",
   "execution_count": 752,
   "id": "9a2d23c1",
   "metadata": {},
   "outputs": [],
   "source": [
    "# Removing unnecessary words\n",
    "\n",
    "removed_list = [\"the\", \"jpg\" , \"file\", \"attached\", \"img\", \"WA0000\", \"mp4\", \"VID\", \"Media\", \"omitted\"\n",
    "                 , \"omitted>\", \"<media\", \",\", \".\", \"ya\", \"ye\", \"?\", \"yeah\", \"https\", \"s\"] + list(STOPWORDS)"
   ]
  },
  {
   "cell_type": "markdown",
   "id": "4b25da75",
   "metadata": {},
   "source": [
    "# Sentiment Analystis"
   ]
  },
  {
   "cell_type": "code",
   "execution_count": 753,
   "id": "ba07f984",
   "metadata": {},
   "outputs": [],
   "source": [
    "# NLTK (VADER)\n",
    "# TextBlob\n",
    "# Flair"
   ]
  },
  {
   "cell_type": "markdown",
   "id": "6833c418",
   "metadata": {},
   "source": [
    "## NLTK (VADER)"
   ]
  },
  {
   "cell_type": "code",
   "execution_count": 754,
   "id": "ea38f6e3",
   "metadata": {},
   "outputs": [],
   "source": [
    "# https://www.kirenz.com/post/2021-12-11-text-mining-and-sentiment-analysis-with-nltk-and-pandas-in-python/text-mining-and-sentiment-analysis-with-nltk-and-pandas-in-python/"
   ]
  },
  {
   "cell_type": "code",
   "execution_count": 755,
   "id": "fa5414c5",
   "metadata": {
    "collapsed": true
   },
   "outputs": [
    {
     "name": "stdout",
     "output_type": "stream",
     "text": [
      "Requirement already satisfied: nltk in c:\\users\\oriordanro\\anaconda3\\lib\\site-packages (3.7)\n",
      "Requirement already satisfied: joblib in c:\\users\\oriordanro\\anaconda3\\lib\\site-packages (from nltk) (1.1.0)\n",
      "Note: you may need to restart the kernel to use updated packages.\n",
      "Requirement already satisfied: click in c:\\users\\oriordanro\\anaconda3\\lib\\site-packages (from nltk) (8.0.4)\n",
      "Requirement already satisfied: tqdm in c:\\users\\oriordanro\\anaconda3\\lib\\site-packages (from nltk) (4.64.0)\n",
      "Requirement already satisfied: regex>=2021.8.3 in c:\\users\\oriordanro\\anaconda3\\lib\\site-packages (from nltk) (2022.3.15)\n",
      "Requirement already satisfied: colorama in c:\\users\\oriordanro\\anaconda3\\lib\\site-packages (from click->nltk) (0.4.4)\n"
     ]
    }
   ],
   "source": [
    "pip install nltk"
   ]
  },
  {
   "cell_type": "code",
   "execution_count": 756,
   "id": "31196512",
   "metadata": {},
   "outputs": [],
   "source": [
    "import nltk"
   ]
  },
  {
   "cell_type": "code",
   "execution_count": 757,
   "id": "180476d7",
   "metadata": {
    "collapsed": true
   },
   "outputs": [
    {
     "name": "stderr",
     "output_type": "stream",
     "text": [
      "[nltk_data] Downloading package names to\n",
      "[nltk_data]     C:\\Users\\oriordanro\\AppData\\Roaming\\nltk_data...\n",
      "[nltk_data]   Package names is already up-to-date!\n",
      "[nltk_data] Downloading package stopwords to\n",
      "[nltk_data]     C:\\Users\\oriordanro\\AppData\\Roaming\\nltk_data...\n",
      "[nltk_data]   Package stopwords is already up-to-date!\n",
      "[nltk_data] Downloading package state_union to\n",
      "[nltk_data]     C:\\Users\\oriordanro\\AppData\\Roaming\\nltk_data...\n",
      "[nltk_data]   Package state_union is already up-to-date!\n",
      "[nltk_data] Downloading package twitter_samples to\n",
      "[nltk_data]     C:\\Users\\oriordanro\\AppData\\Roaming\\nltk_data...\n",
      "[nltk_data]   Package twitter_samples is already up-to-date!\n",
      "[nltk_data] Downloading package movie_reviews to\n",
      "[nltk_data]     C:\\Users\\oriordanro\\AppData\\Roaming\\nltk_data...\n",
      "[nltk_data]   Package movie_reviews is already up-to-date!\n",
      "[nltk_data] Downloading package averaged_perceptron_tagger to\n",
      "[nltk_data]     C:\\Users\\oriordanro\\AppData\\Roaming\\nltk_data...\n",
      "[nltk_data]   Package averaged_perceptron_tagger is already up-to-\n",
      "[nltk_data]       date!\n",
      "[nltk_data] Downloading package vader_lexicon to\n",
      "[nltk_data]     C:\\Users\\oriordanro\\AppData\\Roaming\\nltk_data...\n",
      "[nltk_data]   Package vader_lexicon is already up-to-date!\n",
      "[nltk_data] Downloading package punkt to\n",
      "[nltk_data]     C:\\Users\\oriordanro\\AppData\\Roaming\\nltk_data...\n",
      "[nltk_data]   Package punkt is already up-to-date!\n"
     ]
    },
    {
     "data": {
      "text/plain": [
       "True"
      ]
     },
     "execution_count": 757,
     "metadata": {},
     "output_type": "execute_result"
    }
   ],
   "source": [
    "nltk.download([\n",
    "     \"names\",\n",
    "     \"stopwords\",\n",
    "     \"state_union\",\n",
    "     \"twitter_samples\",\n",
    "     \"movie_reviews\",\n",
    "     \"averaged_perceptron_tagger\",\n",
    "     \"vader_lexicon\",\n",
    "     \"punkt\",])"
   ]
  },
  {
   "cell_type": "code",
   "execution_count": 758,
   "id": "2eb630ee",
   "metadata": {},
   "outputs": [],
   "source": [
    "from nltk.tokenize import RegexpTokenizer\n",
    "from nltk.probability import FreqDist"
   ]
  },
  {
   "cell_type": "code",
   "execution_count": 759,
   "id": "11338be8",
   "metadata": {},
   "outputs": [],
   "source": [
    "stopwords = removed_list + nltk.corpus.stopwords.words(\"english\")"
   ]
  },
  {
   "cell_type": "code",
   "execution_count": 761,
   "id": "0f070a64",
   "metadata": {},
   "outputs": [],
   "source": [
    "df2_messages = df1.copy()"
   ]
  },
  {
   "cell_type": "code",
   "execution_count": 762,
   "id": "0b9eea41",
   "metadata": {
    "scrolled": true
   },
   "outputs": [],
   "source": [
    "df2_messages = pd.DataFrame(df2_messages)\n",
    "df2_messages = df2_messages[df2_messages[\"Message\"] != \"<media omitted>\"] # removing media omitted"
   ]
  },
  {
   "cell_type": "code",
   "execution_count": 763,
   "id": "54bfbddd",
   "metadata": {},
   "outputs": [],
   "source": [
    "regexp = RegexpTokenizer('\\w+')\n",
    "\n",
    "df2_messages['text_token']=df2_messages[\"Message\"].apply(regexp.tokenize)"
   ]
  },
  {
   "cell_type": "code",
   "execution_count": 764,
   "id": "36ab9cbb",
   "metadata": {},
   "outputs": [],
   "source": [
    "# removing stop words\n",
    "df2_messages['text_token'] = df2_messages['text_token'].apply(lambda x: [item for item in x if item not in removed_list])\n",
    "\n",
    "# removing infrequent words\n",
    "df2_messages['text_string'] = df2_messages['text_token'].apply(lambda x: ' '.join([item for item in x if len(item)>2]))"
   ]
  },
  {
   "cell_type": "code",
   "execution_count": 765,
   "id": "326f05a4",
   "metadata": {},
   "outputs": [],
   "source": [
    "# create a list of all words\n",
    "all_words = ' '.join([word for word in df2_messages['text_string']])\n",
    "\n",
    "# Tokenize all_words\n",
    "tokenized_words = nltk.tokenize.word_tokenize(all_words)"
   ]
  },
  {
   "cell_type": "code",
   "execution_count": 766,
   "id": "487f0f6d",
   "metadata": {},
   "outputs": [],
   "source": [
    "df2_messages['text_string_fdist'] = df2_messages['text_token'].apply(lambda x: ' '.join([item for item in x if fdist[item] >= 1 ]))"
   ]
  },
  {
   "cell_type": "code",
   "execution_count": 676,
   "id": "d7dbfba0",
   "metadata": {},
   "outputs": [],
   "source": [
    "from nltk.stem import WordNetLemmatizer"
   ]
  },
  {
   "cell_type": "code",
   "execution_count": 677,
   "id": "57eebbf5",
   "metadata": {
    "collapsed": true
   },
   "outputs": [
    {
     "data": {
      "text/html": [
       "<div>\n",
       "<style scoped>\n",
       "    .dataframe tbody tr th:only-of-type {\n",
       "        vertical-align: middle;\n",
       "    }\n",
       "\n",
       "    .dataframe tbody tr th {\n",
       "        vertical-align: top;\n",
       "    }\n",
       "\n",
       "    .dataframe thead th {\n",
       "        text-align: right;\n",
       "    }\n",
       "</style>\n",
       "<table border=\"1\" class=\"dataframe\">\n",
       "  <thead>\n",
       "    <tr style=\"text-align: right;\">\n",
       "      <th></th>\n",
       "      <th>Date</th>\n",
       "      <th>Time</th>\n",
       "      <th>Message</th>\n",
       "      <th>Timestamp</th>\n",
       "      <th>hour</th>\n",
       "      <th>day</th>\n",
       "      <th>month</th>\n",
       "      <th>year</th>\n",
       "      <th>date</th>\n",
       "      <th>sender_randint</th>\n",
       "      <th>text_token</th>\n",
       "      <th>text_string</th>\n",
       "      <th>text_string_fdist</th>\n",
       "      <th>text_string_lem</th>\n",
       "    </tr>\n",
       "  </thead>\n",
       "  <tbody>\n",
       "    <tr>\n",
       "      <th>0</th>\n",
       "      <td>2022-10-15</td>\n",
       "      <td>22:49</td>\n",
       "      <td>king 🇺🇸 created group \"bse\"</td>\n",
       "      <td>2022-10-15 22:49:00</td>\n",
       "      <td>22:00</td>\n",
       "      <td>Sat</td>\n",
       "      <td>Oct</td>\n",
       "      <td>2022</td>\n",
       "      <td>2022-10-15</td>\n",
       "      <td>557</td>\n",
       "      <td>[king, created, group, bse]</td>\n",
       "      <td>king created group bse</td>\n",
       "      <td>king created group bse</td>\n",
       "      <td>king created group bse</td>\n",
       "    </tr>\n",
       "    <tr>\n",
       "      <th>1</th>\n",
       "      <td>2022-10-16</td>\n",
       "      <td>11:24</td>\n",
       "      <td>paul added you</td>\n",
       "      <td>2022-10-16 11:24:00</td>\n",
       "      <td>11:00</td>\n",
       "      <td>Sun</td>\n",
       "      <td>Oct</td>\n",
       "      <td>2022</td>\n",
       "      <td>2022-10-16</td>\n",
       "      <td>557</td>\n",
       "      <td>[paul, added]</td>\n",
       "      <td>paul added</td>\n",
       "      <td>paul added</td>\n",
       "      <td>paul added</td>\n",
       "    </tr>\n",
       "    <tr>\n",
       "      <th>2</th>\n",
       "      <td>2022-10-16</td>\n",
       "      <td>11:26</td>\n",
       "      <td>you're now an admin</td>\n",
       "      <td>2022-10-16 11:26:00</td>\n",
       "      <td>11:00</td>\n",
       "      <td>Sun</td>\n",
       "      <td>Oct</td>\n",
       "      <td>2022</td>\n",
       "      <td>2022-10-16</td>\n",
       "      <td>557</td>\n",
       "      <td>[admin]</td>\n",
       "      <td>admin</td>\n",
       "      <td>admin</td>\n",
       "      <td>admin</td>\n",
       "    </tr>\n",
       "    <tr>\n",
       "      <th>3</th>\n",
       "      <td>2022-10-16</td>\n",
       "      <td>13:38</td>\n",
       "      <td>now king, are you happy now ?</td>\n",
       "      <td>2022-10-16 13:38:00</td>\n",
       "      <td>13:00</td>\n",
       "      <td>Sun</td>\n",
       "      <td>Oct</td>\n",
       "      <td>2022</td>\n",
       "      <td>2022-10-16</td>\n",
       "      <td>14</td>\n",
       "      <td>[king, happy]</td>\n",
       "      <td>king happy</td>\n",
       "      <td>king happy</td>\n",
       "      <td>king happy</td>\n",
       "    </tr>\n",
       "    <tr>\n",
       "      <th>4</th>\n",
       "      <td>2022-10-16</td>\n",
       "      <td>13:38</td>\n",
       "      <td>king's shares in meta 📈🚀</td>\n",
       "      <td>2022-10-16 13:38:00</td>\n",
       "      <td>13:00</td>\n",
       "      <td>Sun</td>\n",
       "      <td>Oct</td>\n",
       "      <td>2022</td>\n",
       "      <td>2022-10-16</td>\n",
       "      <td>14</td>\n",
       "      <td>[king, shares, meta]</td>\n",
       "      <td>king shares meta</td>\n",
       "      <td>king shares meta</td>\n",
       "      <td>king shares meta</td>\n",
       "    </tr>\n",
       "  </tbody>\n",
       "</table>\n",
       "</div>"
      ],
      "text/plain": [
       "        Date   Time                        Message           Timestamp   hour  \\\n",
       "0 2022-10-15  22:49    king 🇺🇸 created group \"bse\" 2022-10-15 22:49:00  22:00   \n",
       "1 2022-10-16  11:24                 paul added you 2022-10-16 11:24:00  11:00   \n",
       "2 2022-10-16  11:26            you're now an admin 2022-10-16 11:26:00  11:00   \n",
       "3 2022-10-16  13:38  now king, are you happy now ? 2022-10-16 13:38:00  13:00   \n",
       "4 2022-10-16  13:38       king's shares in meta 📈🚀 2022-10-16 13:38:00  13:00   \n",
       "\n",
       "   day month  year        date  sender_randint                   text_token  \\\n",
       "0  Sat   Oct  2022  2022-10-15             557  [king, created, group, bse]   \n",
       "1  Sun   Oct  2022  2022-10-16             557                [paul, added]   \n",
       "2  Sun   Oct  2022  2022-10-16             557                      [admin]   \n",
       "3  Sun   Oct  2022  2022-10-16              14                [king, happy]   \n",
       "4  Sun   Oct  2022  2022-10-16              14         [king, shares, meta]   \n",
       "\n",
       "              text_string       text_string_fdist         text_string_lem  \n",
       "0  king created group bse  king created group bse  king created group bse  \n",
       "1              paul added              paul added              paul added  \n",
       "2                   admin                   admin                   admin  \n",
       "3              king happy              king happy              king happy  \n",
       "4        king shares meta        king shares meta        king shares meta  "
      ]
     },
     "execution_count": 677,
     "metadata": {},
     "output_type": "execute_result"
    }
   ],
   "source": [
    "wordnet_lem = WordNetLemmatizer()\n",
    "\n",
    "df2_messages['text_string_lem'] = df2_messages['text_string_fdist'].apply(wordnet_lem.lemmatize)\n",
    "df2_messages.head()"
   ]
  },
  {
   "cell_type": "code",
   "execution_count": 678,
   "id": "8c097109",
   "metadata": {},
   "outputs": [
    {
     "data": {
      "text/plain": [
       "True     694\n",
       "False      3\n",
       "Name: is_equal, dtype: int64"
      ]
     },
     "execution_count": 678,
     "metadata": {},
     "output_type": "execute_result"
    }
   ],
   "source": [
    "df2_messages['is_equal']= (df2_messages['text_string_fdist']==df2_messages['text_string_lem'])\n",
    "df2_messages.is_equal.value_counts()"
   ]
  },
  {
   "cell_type": "code",
   "execution_count": 679,
   "id": "5e6f35b4",
   "metadata": {},
   "outputs": [
    {
     "name": "stderr",
     "output_type": "stream",
     "text": [
      "[nltk_data] Downloading package punkt to\n",
      "[nltk_data]     C:\\Users\\oriordanro\\AppData\\Roaming\\nltk_data...\n",
      "[nltk_data]   Package punkt is already up-to-date!\n",
      "[nltk_data] Downloading package vader_lexicon to\n",
      "[nltk_data]     C:\\Users\\oriordanro\\AppData\\Roaming\\nltk_data...\n",
      "[nltk_data]   Package vader_lexicon is already up-to-date!\n"
     ]
    },
    {
     "data": {
      "text/plain": [
       "True"
      ]
     },
     "execution_count": 679,
     "metadata": {},
     "output_type": "execute_result"
    }
   ],
   "source": [
    "# Frequency distributions\n",
    "nltk.download('punkt')\n",
    "nltk.download('vader_lexicon')"
   ]
  },
  {
   "cell_type": "code",
   "execution_count": 680,
   "id": "39d95ecb",
   "metadata": {},
   "outputs": [],
   "source": [
    "all_words_lem = ' '.join([word for word in df2_messages['text_string_lem']])"
   ]
  },
  {
   "cell_type": "code",
   "execution_count": 681,
   "id": "281f19c4",
   "metadata": {},
   "outputs": [],
   "source": [
    "from nltk.tokenize import word_tokenize\n",
    "from nltk.probability import FreqDist\n",
    "from nltk.sentiment import SentimentIntensityAnalyzer"
   ]
  },
  {
   "cell_type": "code",
   "execution_count": 682,
   "id": "11ec269a",
   "metadata": {},
   "outputs": [],
   "source": [
    "analyzer = SentimentIntensityAnalyzer()"
   ]
  },
  {
   "cell_type": "code",
   "execution_count": 737,
   "id": "f3406198",
   "metadata": {},
   "outputs": [],
   "source": [
    "# Polarity scores\n",
    "df2_messages['polarity'] = df2_messages['text_string_lem'].apply(lambda x: analyzer.polarity_scores(x))"
   ]
  },
  {
   "cell_type": "code",
   "execution_count": 738,
   "id": "37c090d3",
   "metadata": {},
   "outputs": [],
   "source": [
    "df2_messages = pd.concat(\n",
    "    [df2_messages\n",
    "     ,df2_messages['polarity'].apply(pd.Series)], axis=1)"
   ]
  },
  {
   "cell_type": "code",
   "execution_count": 687,
   "id": "6872abab",
   "metadata": {
    "collapsed": true
   },
   "outputs": [
    {
     "data": {
      "text/html": [
       "<div>\n",
       "<style scoped>\n",
       "    .dataframe tbody tr th:only-of-type {\n",
       "        vertical-align: middle;\n",
       "    }\n",
       "\n",
       "    .dataframe tbody tr th {\n",
       "        vertical-align: top;\n",
       "    }\n",
       "\n",
       "    .dataframe thead th {\n",
       "        text-align: right;\n",
       "    }\n",
       "</style>\n",
       "<table border=\"1\" class=\"dataframe\">\n",
       "  <thead>\n",
       "    <tr style=\"text-align: right;\">\n",
       "      <th></th>\n",
       "      <th>Date</th>\n",
       "      <th>Time</th>\n",
       "      <th>Message</th>\n",
       "      <th>Timestamp</th>\n",
       "      <th>hour</th>\n",
       "      <th>day</th>\n",
       "      <th>month</th>\n",
       "      <th>year</th>\n",
       "      <th>date</th>\n",
       "      <th>sender_randint</th>\n",
       "      <th>...</th>\n",
       "      <th>text_string</th>\n",
       "      <th>text_string_fdist</th>\n",
       "      <th>text_string_lem</th>\n",
       "      <th>is_equal</th>\n",
       "      <th>polarity</th>\n",
       "      <th>neg</th>\n",
       "      <th>neu</th>\n",
       "      <th>pos</th>\n",
       "      <th>compound</th>\n",
       "      <th>sentiment</th>\n",
       "    </tr>\n",
       "  </thead>\n",
       "  <tbody>\n",
       "    <tr>\n",
       "      <th>0</th>\n",
       "      <td>2022-10-15</td>\n",
       "      <td>22:49</td>\n",
       "      <td>king 🇺🇸 created group \"bse\"</td>\n",
       "      <td>2022-10-15 22:49:00</td>\n",
       "      <td>22:00</td>\n",
       "      <td>Sat</td>\n",
       "      <td>Oct</td>\n",
       "      <td>2022</td>\n",
       "      <td>2022-10-15</td>\n",
       "      <td>557</td>\n",
       "      <td>...</td>\n",
       "      <td>king created group bse</td>\n",
       "      <td>king created group bse</td>\n",
       "      <td>king created group bse</td>\n",
       "      <td>True</td>\n",
       "      <td>{'neg': 0.0, 'neu': 0.6, 'pos': 0.4, 'compound...</td>\n",
       "      <td>0.0</td>\n",
       "      <td>0.600</td>\n",
       "      <td>0.400</td>\n",
       "      <td>0.2500</td>\n",
       "      <td>positive</td>\n",
       "    </tr>\n",
       "    <tr>\n",
       "      <th>1</th>\n",
       "      <td>2022-10-16</td>\n",
       "      <td>11:24</td>\n",
       "      <td>paul added you</td>\n",
       "      <td>2022-10-16 11:24:00</td>\n",
       "      <td>11:00</td>\n",
       "      <td>Sun</td>\n",
       "      <td>Oct</td>\n",
       "      <td>2022</td>\n",
       "      <td>2022-10-16</td>\n",
       "      <td>557</td>\n",
       "      <td>...</td>\n",
       "      <td>paul added</td>\n",
       "      <td>paul added</td>\n",
       "      <td>paul added</td>\n",
       "      <td>True</td>\n",
       "      <td>{'neg': 0.0, 'neu': 1.0, 'pos': 0.0, 'compound...</td>\n",
       "      <td>0.0</td>\n",
       "      <td>1.000</td>\n",
       "      <td>0.000</td>\n",
       "      <td>0.0000</td>\n",
       "      <td>neutral</td>\n",
       "    </tr>\n",
       "    <tr>\n",
       "      <th>2</th>\n",
       "      <td>2022-10-16</td>\n",
       "      <td>11:26</td>\n",
       "      <td>you're now an admin</td>\n",
       "      <td>2022-10-16 11:26:00</td>\n",
       "      <td>11:00</td>\n",
       "      <td>Sun</td>\n",
       "      <td>Oct</td>\n",
       "      <td>2022</td>\n",
       "      <td>2022-10-16</td>\n",
       "      <td>557</td>\n",
       "      <td>...</td>\n",
       "      <td>admin</td>\n",
       "      <td>admin</td>\n",
       "      <td>admin</td>\n",
       "      <td>True</td>\n",
       "      <td>{'neg': 0.0, 'neu': 1.0, 'pos': 0.0, 'compound...</td>\n",
       "      <td>0.0</td>\n",
       "      <td>1.000</td>\n",
       "      <td>0.000</td>\n",
       "      <td>0.0000</td>\n",
       "      <td>neutral</td>\n",
       "    </tr>\n",
       "    <tr>\n",
       "      <th>3</th>\n",
       "      <td>2022-10-16</td>\n",
       "      <td>13:38</td>\n",
       "      <td>now king, are you happy now ?</td>\n",
       "      <td>2022-10-16 13:38:00</td>\n",
       "      <td>13:00</td>\n",
       "      <td>Sun</td>\n",
       "      <td>Oct</td>\n",
       "      <td>2022</td>\n",
       "      <td>2022-10-16</td>\n",
       "      <td>14</td>\n",
       "      <td>...</td>\n",
       "      <td>king happy</td>\n",
       "      <td>king happy</td>\n",
       "      <td>king happy</td>\n",
       "      <td>True</td>\n",
       "      <td>{'neg': 0.0, 'neu': 0.213, 'pos': 0.787, 'comp...</td>\n",
       "      <td>0.0</td>\n",
       "      <td>0.213</td>\n",
       "      <td>0.787</td>\n",
       "      <td>0.5719</td>\n",
       "      <td>positive</td>\n",
       "    </tr>\n",
       "  </tbody>\n",
       "</table>\n",
       "<p>4 rows × 21 columns</p>\n",
       "</div>"
      ],
      "text/plain": [
       "        Date   Time                        Message           Timestamp   hour  \\\n",
       "0 2022-10-15  22:49    king 🇺🇸 created group \"bse\" 2022-10-15 22:49:00  22:00   \n",
       "1 2022-10-16  11:24                 paul added you 2022-10-16 11:24:00  11:00   \n",
       "2 2022-10-16  11:26            you're now an admin 2022-10-16 11:26:00  11:00   \n",
       "3 2022-10-16  13:38  now king, are you happy now ? 2022-10-16 13:38:00  13:00   \n",
       "\n",
       "   day month  year        date  sender_randint  ...             text_string  \\\n",
       "0  Sat   Oct  2022  2022-10-15             557  ...  king created group bse   \n",
       "1  Sun   Oct  2022  2022-10-16             557  ...              paul added   \n",
       "2  Sun   Oct  2022  2022-10-16             557  ...                   admin   \n",
       "3  Sun   Oct  2022  2022-10-16              14  ...              king happy   \n",
       "\n",
       "        text_string_fdist         text_string_lem is_equal  \\\n",
       "0  king created group bse  king created group bse     True   \n",
       "1              paul added              paul added     True   \n",
       "2                   admin                   admin     True   \n",
       "3              king happy              king happy     True   \n",
       "\n",
       "                                            polarity  neg    neu    pos  \\\n",
       "0  {'neg': 0.0, 'neu': 0.6, 'pos': 0.4, 'compound...  0.0  0.600  0.400   \n",
       "1  {'neg': 0.0, 'neu': 1.0, 'pos': 0.0, 'compound...  0.0  1.000  0.000   \n",
       "2  {'neg': 0.0, 'neu': 1.0, 'pos': 0.0, 'compound...  0.0  1.000  0.000   \n",
       "3  {'neg': 0.0, 'neu': 0.213, 'pos': 0.787, 'comp...  0.0  0.213  0.787   \n",
       "\n",
       "   compound  sentiment  \n",
       "0    0.2500   positive  \n",
       "1    0.0000    neutral  \n",
       "2    0.0000    neutral  \n",
       "3    0.5719   positive  \n",
       "\n",
       "[4 rows x 21 columns]"
      ]
     },
     "execution_count": 687,
     "metadata": {},
     "output_type": "execute_result"
    }
   ],
   "source": [
    "# Create new variable with sentiment \"neutral,\" \"positive\" and \"negative\"\n",
    "df2_messages['sentiment'] = df2_messages['compound'].apply(lambda x: 'positive' if x >0 else 'neutral' if x==0 else 'negative')\n",
    "df2_messages.head(4)"
   ]
  },
  {
   "cell_type": "markdown",
   "id": "5191b78b",
   "metadata": {},
   "source": [
    "### Total compound by day"
   ]
  },
  {
   "cell_type": "code",
   "execution_count": 690,
   "id": "2219f62a",
   "metadata": {},
   "outputs": [],
   "source": [
    "tot_compound_day = df2_messages.groupby(\"day\").sum(\"compound\")['compound'].sort_values(ascending = False)"
   ]
  },
  {
   "cell_type": "markdown",
   "id": "fa018eee",
   "metadata": {},
   "source": [
    "### Average compound per day "
   ]
  },
  {
   "cell_type": "code",
   "execution_count": 691,
   "id": "1e96fd3f",
   "metadata": {},
   "outputs": [],
   "source": [
    "avg_compound_day = df2_messages.groupby(\"day\").mean(\"compound\")['compound'].sort_values(ascending = False)"
   ]
  },
  {
   "cell_type": "markdown",
   "id": "fe0042b0",
   "metadata": {},
   "source": [
    "### Total compound by sender"
   ]
  },
  {
   "cell_type": "code",
   "execution_count": 736,
   "id": "f868cc8e",
   "metadata": {},
   "outputs": [
    {
     "data": {
      "text/plain": [
       "Text(0.5, 1.0, 'Compound Total by Sender')"
      ]
     },
     "execution_count": 736,
     "metadata": {},
     "output_type": "execute_result"
    },
    {
     "data": {
      "image/png": "[encoded data removed]",
      "text/plain": [
       "<Figure size 720x432 with 1 Axes>"
      ]
     },
     "metadata": {
      "needs_background": "light"
     },
     "output_type": "display_data"
    }
   ],
   "source": [
    "tot_comp_sender = pd.DataFrame(df2_messages.groupby(\"sender_randint\").sum(\"compound\")['compound'].sort_values(ascending = False))\n",
    "\n",
    "# Total Compound Sender\n",
    "tot_comp_sender.plot(kind = 'bar'\n",
    "                    , stacked=True\n",
    "                    , figsize = (10,6)\n",
    "            )\n",
    "\n",
    "plt.xlabel(xlabel = None)\n",
    "plt.xticks(rotation=90, fontsize=10)\n",
    "plt.ylabel('Compound Total')\n",
    "plt.xlabel('Sender')\n",
    "plt.title('Compound Total by Sender')"
   ]
  },
  {
   "cell_type": "markdown",
   "id": "8320402a",
   "metadata": {},
   "source": [
    "### Average compound per sender "
   ]
  },
  {
   "cell_type": "code",
   "execution_count": 693,
   "id": "b375f5a7",
   "metadata": {},
   "outputs": [],
   "source": [
    "sender_message_count = pd.DataFrame(sender_message_count)"
   ]
  },
  {
   "cell_type": "code",
   "execution_count": 694,
   "id": "d209e135",
   "metadata": {},
   "outputs": [],
   "source": [
    "avg_comp_sender = pd.DataFrame(df2_messages.groupby(\"sender_randint\").mean(\"compound\")['compound'].sort_values(ascending = False))\n",
    "avg_comp_total_mess_count = avg_comp_sender.merge(sender_message_count, how = 'left', on = 'sender_randint')"
   ]
  },
  {
   "cell_type": "markdown",
   "id": "b64ab46e",
   "metadata": {},
   "source": [
    "### Sentiment count by Sender"
   ]
  },
  {
   "cell_type": "code",
   "execution_count": 708,
   "id": "d1eba47a",
   "metadata": {},
   "outputs": [
    {
     "data": {
      "text/plain": [
       "[Text(0, 0.5, ''),\n",
       " Text(0.5, 0, 'Message Count'),\n",
       " Text(0.5, 1.0, 'Message Count by Sentiment')]"
      ]
     },
     "execution_count": 708,
     "metadata": {},
     "output_type": "execute_result"
    },
    {
     "data": {
      "image/png": "[encoded data removed]",
      "text/plain": [
       "<Figure size 432x288 with 1 Axes>"
      ]
     },
     "metadata": {
      "needs_background": "light"
     },
     "output_type": "display_data"
    }
   ],
   "source": [
    "# Number of tweets \n",
    "g = sns.countplot(y='sentiment', \n",
    "             data=df2_messages, \n",
    "             palette=['green','skyblue','red'])\n",
    "\n",
    "g.set(ylabel= None\n",
    "     ,xlabel = 'Message Count'\n",
    "     ,title = 'Message Count by Sentiment'\n",
    "     )"
   ]
  },
  {
   "cell_type": "code",
   "execution_count": 735,
   "id": "02c837d3",
   "metadata": {},
   "outputs": [
    {
     "data": {
      "text/plain": [
       "<matplotlib.legend.Legend at 0x1e1a52213d0>"
      ]
     },
     "execution_count": 735,
     "metadata": {},
     "output_type": "execute_result"
    },
    {
     "data": {
      "image/png": "[encoded data removed]",
      "text/plain": [
       "<Figure size 720x432 with 1 Axes>"
      ]
     },
     "metadata": {
      "needs_background": "light"
     },
     "output_type": "display_data"
    }
   ],
   "source": [
    "sentiment_count_sender = df2_messages.reset_index().groupby([\"sender_randint\",\"sentiment\"]).count().sort_values(ascending = True,by=[\"sender_randint\",\"sentiment\",\"index\",])[\"index\"]\n",
    "\n",
    "sentiment_count_sender.unstack().plot(kind='bar'\n",
    "                    , stacked=True\n",
    "                    , color=['red', 'skyblue', 'green']\n",
    "                    , figsize = (10,6)\n",
    "                    , title = 'Sentiment Split by Sender (Total)'\n",
    "            )\n",
    "\n",
    "plt.xlabel('Sender')\n",
    "plt.ylabel('Message Count')\n",
    "plt.legend(bbox_to_anchor=(1,1))\n"
   ]
  },
  {
   "cell_type": "code",
   "execution_count": 734,
   "id": "cd3716b8",
   "metadata": {},
   "outputs": [
    {
     "data": {
      "image/png": "[encoded data removed]",
      "text/plain": [
       "<Figure size 720x432 with 1 Axes>"
      ]
     },
     "metadata": {
      "needs_background": "light"
     },
     "output_type": "display_data"
    }
   ],
   "source": [
    "senetiment_split_perc = df2_messages.reset_index().groupby([\"sender_randint\",\"sentiment\"]).count().sort_values(ascending = True,by=[\"sender_randint\",\"sentiment\",\"index\",])[\"index\"]\n",
    "# test_2['total'] = test_2.groupby(\"Sender\").sum()\n",
    "senetiment_split_perc = pd.DataFrame(data = senetiment_split_perc, columns = ['index'])\n",
    "senetiment_split_perc.rename(columns = {\"index\": \"message_count\"}, inplace = True)\n",
    "senetiment_split_perc_2 = senetiment_split_perc.groupby('sender_randint').sum('message_count')\n",
    "senetiment_split_perc_2 = senetiment_split_perc.merge(senetiment_split_perc_2, how = 'left', left_index = True, right_index = True)\n",
    "senetiment_split_perc_2.rename(columns = {\"message_count_x\": \"message_count\"\n",
    "                        ,\"message_count_y\": \"total_messages\"}, inplace = True)\n",
    "senetiment_split_perc_2['%_of_total'] = round(senetiment_split_perc_2['message_count'] *1.0/ senetiment_split_perc_2['total_messages'],2)\n",
    "\n",
    "\n",
    "senetiment_split_perc_2.unstack().plot(kind='bar'\n",
    "                    ,stacked = True\n",
    "                    , color=['red', 'skyblue', 'green']\n",
    "                    , figsize = (10,6)\n",
    "                    , y = \"%_of_total\"  \n",
    "                    , title = \"Sentiment Split by Sender (%)\"\n",
    "            )\n",
    "\n",
    "plt.gca().yaxis.set_major_formatter(ticker.PercentFormatter(xmax=1.0))\n",
    "plt.ylabel('Percent')\n",
    "plt.xlabel('Sender')\n",
    "plt.legend(bbox_to_anchor=(1,1))\n",
    "plt.show()\n"
   ]
  },
  {
   "cell_type": "code",
   "execution_count": 733,
   "id": "b2bd06a5",
   "metadata": {},
   "outputs": [
    {
     "data": {
      "image/png": "[encoded data removed]",
      "text/plain": [
       "<Figure size 720x432 with 1 Axes>"
      ]
     },
     "metadata": {
      "needs_background": "light"
     },
     "output_type": "display_data"
    }
   ],
   "source": [
    "### Word Cloud of mostly used word in the groupchat\n",
    "\n",
    "removed_list = [\"the\", \"jpg\" , \"file\", \"attached\", \"img\", \"WA0000\", \"mp4\", \"VID\", \"Media\", \"omitted\"\n",
    "                 , \"omitted>\", \"<media\", \",\", \".\", \"ya\", \"ye\", \"?\", \"yeah\", \"https\", \"s\"] + list(STOPWORDS)\n",
    "\n",
    "text = \" \".join(review for review in df1.Message)\n",
    "wordcloud = WordCloud(stopwords = removed_list\n",
    "                      ,background_color=\"white\"\n",
    "                      ,max_words = 100\n",
    "                      ,prefer_horizontal=1\n",
    "                     ).generate(text)\n",
    "\n",
    "  ### Display the generated image:\n",
    "plt.figure( figsize=(10,6))\n",
    "plt.imshow(wordcloud, interpolation='bilinear')\n",
    "plt.axis(\"off\")\n",
    "plt.show()"
   ]
  },
  {
   "cell_type": "markdown",
   "id": "687ff7ee",
   "metadata": {},
   "source": [
    "## Flair"
   ]
  },
  {
   "cell_type": "code",
   "execution_count": 643,
   "id": "f4225cec",
   "metadata": {},
   "outputs": [],
   "source": [
    "# https://github.com/jeremydiba/sentiment-analysis-medium/blob/main/sentiment%20playground.ipynb"
   ]
  },
  {
   "cell_type": "code",
   "execution_count": 644,
   "id": "7188d9ee",
   "metadata": {
    "collapsed": true
   },
   "outputs": [
    {
     "name": "stdout",
     "output_type": "stream",
     "text": [
      "Requirement already satisfied: flair in c:\\users\\oriordanro\\anaconda3\\lib\\site-packages (0.11.3)\n",
      "Requirement already satisfied: gdown==4.4.0 in c:\\users\\oriordanro\\anaconda3\\lib\\site-packages (from flair) (4.4.0)\n",
      "Requirement already satisfied: wikipedia-api in c:\\users\\oriordanro\\anaconda3\\lib\\site-packages (from flair) (0.5.4)\n",
      "Requirement already satisfied: lxml in c:\\users\\oriordanro\\anaconda3\\lib\\site-packages (from flair) (4.8.0)\n",
      "Requirement already satisfied: torch!=1.8,>=1.5.0 in c:\\users\\oriordanro\\anaconda3\\lib\\site-packages (from flair) (1.13.0)\n",
      "Requirement already satisfied: deprecated>=1.2.4 in c:\\users\\oriordanro\\anaconda3\\lib\\site-packages (from flair) (1.2.13)\n",
      "Requirement already satisfied: matplotlib>=2.2.3 in c:\\users\\oriordanro\\anaconda3\\lib\\site-packages (from flair) (3.5.1)\n",
      "Requirement already satisfied: huggingface-hub in c:\\users\\oriordanro\\anaconda3\\lib\\site-packages (from flair) (0.11.1)\n",
      "Requirement already satisfied: mpld3==0.3 in c:\\users\\oriordanro\\anaconda3\\lib\\site-packages (from flair) (0.3)\n",
      "Requirement already satisfied: sentencepiece==0.1.95 in c:\\users\\oriordanro\\anaconda3\\lib\\site-packages (from flair) (0.1.95)\n",
      "Requirement already satisfied: segtok>=1.5.7 in c:\\users\\oriordanro\\anaconda3\\lib\\site-packages (from flair) (1.5.11)\n",
      "Requirement already satisfied: tqdm>=4.26.0 in c:\\users\\oriordanro\\anaconda3\\lib\\site-packages (from flair) (4.64.0)\n",
      "Requirement already satisfied: transformers>=4.0.0 in c:\\users\\oriordanro\\anaconda3\\lib\\site-packages (from flair) (4.24.0)\n",
      "Requirement already satisfied: conllu>=4.0 in c:\\users\\oriordanro\\anaconda3\\lib\\site-packages (from flair) (4.5.2)\n",
      "Requirement already satisfied: python-dateutil>=2.6.1 in c:\\users\\oriordanro\\anaconda3\\lib\\site-packages (from flair) (2.8.2)\n",
      "Requirement already satisfied: langdetect in c:\\users\\oriordanro\\anaconda3\\lib\\site-packages (from flair) (1.0.9)\n",
      "Requirement already satisfied: regex in c:\\users\\oriordanro\\anaconda3\\lib\\site-packages (from flair) (2022.3.15)\n",
      "Requirement already satisfied: janome in c:\\users\\oriordanro\\anaconda3\\lib\\site-packages (from flair) (0.4.2)\n",
      "Requirement already satisfied: pptree in c:\\users\\oriordanro\\anaconda3\\lib\\site-packages (from flair) (3.1)\n",
      "Requirement already satisfied: ftfy in c:\\users\\oriordanro\\anaconda3\\lib\\site-packages (from flair) (6.1.1)\n",
      "Requirement already satisfied: konoha<5.0.0,>=4.0.0 in c:\\users\\oriordanro\\anaconda3\\lib\\site-packages (from flair) (4.6.5)\n",
      "Requirement already satisfied: tabulate in c:\\users\\oriordanro\\anaconda3\\lib\\site-packages (from flair) (0.8.9)\n",
      "Requirement already satisfied: gensim>=3.4.0 in c:\\users\\oriordanro\\anaconda3\\lib\\site-packages (from flair) (4.1.2)\n",
      "Requirement already satisfied: scikit-learn>=0.21.3 in c:\\users\\oriordanro\\anaconda3\\lib\\site-packages (from flair) (1.0.2)\n",
      "Requirement already satisfied: more-itertools in c:\\users\\oriordanro\\anaconda3\\lib\\site-packages (from flair) (9.0.0)\n",
      "Requirement already satisfied: hyperopt>=0.2.7 in c:\\users\\oriordanro\\anaconda3\\lib\\site-packages (from flair) (0.2.7)\n",
      "Requirement already satisfied: sqlitedict>=1.6.0 in c:\\users\\oriordanro\\anaconda3\\lib\\site-packages (from flair) (2.0.0)\n",
      "Requirement already satisfied: bpemb>=0.3.2 in c:\\users\\oriordanro\\anaconda3\\lib\\site-packages (from flair) (0.3.4)\n",
      "Requirement already satisfied: beautifulsoup4 in c:\\users\\oriordanro\\anaconda3\\lib\\site-packages (from gdown==4.4.0->flair) (4.11.1)\n",
      "Requirement already satisfied: requests[socks] in c:\\users\\oriordanro\\anaconda3\\lib\\site-packages (from gdown==4.4.0->flair) (2.27.1)\n",
      "Requirement already satisfied: filelock in c:\\users\\oriordanro\\anaconda3\\lib\\site-packages (from gdown==4.4.0->flair) (3.6.0)\n",
      "Requirement already satisfied: six in c:\\users\\oriordanro\\anaconda3\\lib\\site-packages (from gdown==4.4.0->flair) (1.16.0)Note: you may need to restart the kernel to use updated packages.\n",
      "\n",
      "Requirement already satisfied: numpy in c:\\users\\oriordanro\\anaconda3\\lib\\site-packages (from bpemb>=0.3.2->flair) (1.21.5)\n",
      "Requirement already satisfied: wrapt<2,>=1.10 in c:\\users\\oriordanro\\anaconda3\\lib\\site-packages (from deprecated>=1.2.4->flair) (1.12.1)\n",
      "Requirement already satisfied: smart-open>=1.8.1 in c:\\users\\oriordanro\\anaconda3\\lib\\site-packages (from gensim>=3.4.0->flair) (5.1.0)\n",
      "Requirement already satisfied: scipy>=0.18.1 in c:\\users\\oriordanro\\anaconda3\\lib\\site-packages (from gensim>=3.4.0->flair) (1.7.3)\n",
      "Requirement already satisfied: future in c:\\users\\oriordanro\\anaconda3\\lib\\site-packages (from hyperopt>=0.2.7->flair) (0.18.2)\n",
      "Requirement already satisfied: cloudpickle in c:\\users\\oriordanro\\anaconda3\\lib\\site-packages (from hyperopt>=0.2.7->flair) (2.0.0)\n",
      "Requirement already satisfied: networkx>=2.2 in c:\\users\\oriordanro\\anaconda3\\lib\\site-packages (from hyperopt>=0.2.7->flair) (2.7.1)\n",
      "Requirement already satisfied: py4j in c:\\users\\oriordanro\\anaconda3\\lib\\site-packages (from hyperopt>=0.2.7->flair) (0.10.9.7)\n",
      "Requirement already satisfied: importlib-metadata<4.0.0,>=3.7.0 in c:\\users\\oriordanro\\anaconda3\\lib\\site-packages (from konoha<5.0.0,>=4.0.0->flair) (3.10.1)\n",
      "Requirement already satisfied: overrides<4.0.0,>=3.0.0 in c:\\users\\oriordanro\\anaconda3\\lib\\site-packages (from konoha<5.0.0,>=4.0.0->flair) (3.1.0)\n",
      "Requirement already satisfied: pyparsing>=2.2.1 in c:\\users\\oriordanro\\anaconda3\\lib\\site-packages (from matplotlib>=2.2.3->flair) (3.0.4)\n",
      "Requirement already satisfied: kiwisolver>=1.0.1 in c:\\users\\oriordanro\\anaconda3\\lib\\site-packages (from matplotlib>=2.2.3->flair) (1.3.2)\n",
      "Requirement already satisfied: packaging>=20.0 in c:\\users\\oriordanro\\anaconda3\\lib\\site-packages (from matplotlib>=2.2.3->flair) (21.3)\n",
      "Requirement already satisfied: fonttools>=4.22.0 in c:\\users\\oriordanro\\anaconda3\\lib\\site-packages (from matplotlib>=2.2.3->flair) (4.25.0)\n",
      "Requirement already satisfied: pillow>=6.2.0 in c:\\users\\oriordanro\\anaconda3\\lib\\site-packages (from matplotlib>=2.2.3->flair) (9.0.1)\n",
      "Requirement already satisfied: cycler>=0.10 in c:\\users\\oriordanro\\anaconda3\\lib\\site-packages (from matplotlib>=2.2.3->flair) (0.11.0)\n",
      "Requirement already satisfied: joblib>=0.11 in c:\\users\\oriordanro\\anaconda3\\lib\\site-packages (from scikit-learn>=0.21.3->flair) (1.1.0)\n",
      "Requirement already satisfied: threadpoolctl>=2.0.0 in c:\\users\\oriordanro\\anaconda3\\lib\\site-packages (from scikit-learn>=0.21.3->flair) (2.2.0)\n",
      "Requirement already satisfied: typing-extensions in c:\\users\\oriordanro\\anaconda3\\lib\\site-packages (from torch!=1.8,>=1.5.0->flair) (4.1.1)"
     ]
    }
   ],
   "source": [
    "pip install flair"
   ]
  },
  {
   "cell_type": "code",
   "execution_count": 645,
   "id": "a29f01d3",
   "metadata": {
    "collapsed": true
   },
   "outputs": [
    {
     "name": "stdout",
     "output_type": "stream",
     "text": [
      "\n",
      "Requirement already satisfied: colorama in c:\\users\\oriordanro\\anaconda3\\lib\\site-packages (from tqdm>=4.26.0->flair) (0.4.4)\n",
      "Requirement already satisfied: tokenizers!=0.11.3,<0.14,>=0.11.1 in c:\\users\\oriordanro\\anaconda3\\lib\\site-packages (from transformers>=4.0.0->flair) (0.13.2)\n",
      "Requirement already satisfied: pyyaml>=5.1 in c:\\users\\oriordanro\\anaconda3\\lib\\site-packages (from transformers>=4.0.0->flair) (6.0)\n",
      "Requirement already satisfied: wcwidth>=0.2.5 in c:\\users\\oriordanro\\anaconda3\\lib\\site-packages (from ftfy->flair) (0.2.5)\n",
      "Requirement already satisfied: zipp>=0.5 in c:\\users\\oriordanro\\anaconda3\\lib\\site-packages (from importlib-metadata<4.0.0,>=3.7.0->konoha<5.0.0,>=4.0.0->flair) (3.7.0)\n",
      "Requirement already satisfied: charset-normalizer~=2.0.0 in c:\\users\\oriordanro\\anaconda3\\lib\\site-packages (from requests[socks]->gdown==4.4.0->flair) (2.0.4)\n",
      "Requirement already satisfied: urllib3<1.27,>=1.21.1 in c:\\users\\oriordanro\\anaconda3\\lib\\site-packages (from requests[socks]->gdown==4.4.0->flair) (1.26.9)\n",
      "Requirement already satisfied: certifi>=2017.4.17 in c:\\users\\oriordanro\\anaconda3\\lib\\site-packages (from requests[socks]->gdown==4.4.0->flair) (2021.10.8)\n",
      "Requirement already satisfied: idna<4,>=2.5 in c:\\users\\oriordanro\\anaconda3\\lib\\site-packages (from requests[socks]->gdown==4.4.0->flair) (3.3)\n",
      "Requirement already satisfied: soupsieve>1.2 in c:\\users\\oriordanro\\anaconda3\\lib\\site-packages (from beautifulsoup4->gdown==4.4.0->flair) (2.3.1)\n",
      "Requirement already satisfied: PySocks!=1.5.7,>=1.5.6 in c:\\users\\oriordanro\\anaconda3\\lib\\site-packages (from requests[socks]->gdown==4.4.0->flair) (1.7.1)\n"
     ]
    }
   ],
   "source": [
    "from flair.models import TextClassifier\n",
    "from flair.data import Sentence\n",
    "from datetime import datetime\n",
    "import time"
   ]
  },
  {
   "cell_type": "code",
   "execution_count": 646,
   "id": "2231f723",
   "metadata": {},
   "outputs": [],
   "source": [
    "# Create a copy of the DF for Flair \n",
    "\n",
    "df3_messages = df1.copy()"
   ]
  },
  {
   "cell_type": "code",
   "execution_count": 647,
   "id": "5fe5bd5e",
   "metadata": {
    "collapsed": true
   },
   "outputs": [
    {
     "data": {
      "text/html": [
       "<div>\n",
       "<style scoped>\n",
       "    .dataframe tbody tr th:only-of-type {\n",
       "        vertical-align: middle;\n",
       "    }\n",
       "\n",
       "    .dataframe tbody tr th {\n",
       "        vertical-align: top;\n",
       "    }\n",
       "\n",
       "    .dataframe thead th {\n",
       "        text-align: right;\n",
       "    }\n",
       "</style>\n",
       "<table border=\"1\" class=\"dataframe\">\n",
       "  <thead>\n",
       "    <tr style=\"text-align: right;\">\n",
       "      <th></th>\n",
       "      <th>Date</th>\n",
       "      <th>Time</th>\n",
       "      <th>Message</th>\n",
       "      <th>Timestamp</th>\n",
       "      <th>hour</th>\n",
       "      <th>day</th>\n",
       "      <th>month</th>\n",
       "      <th>year</th>\n",
       "      <th>date</th>\n",
       "      <th>sender_randint</th>\n",
       "      <th>...</th>\n",
       "      <th>text_string</th>\n",
       "      <th>text_string_fdist</th>\n",
       "      <th>text_string_lem</th>\n",
       "      <th>is_equal</th>\n",
       "      <th>polarity</th>\n",
       "      <th>neg</th>\n",
       "      <th>neu</th>\n",
       "      <th>pos</th>\n",
       "      <th>compound</th>\n",
       "      <th>sentiment</th>\n",
       "    </tr>\n",
       "  </thead>\n",
       "  <tbody>\n",
       "    <tr>\n",
       "      <th>0</th>\n",
       "      <td>2022-10-15</td>\n",
       "      <td>22:49</td>\n",
       "      <td>king 🇺🇸 created group \"bse\"</td>\n",
       "      <td>2022-10-15 22:49:00</td>\n",
       "      <td>22:00</td>\n",
       "      <td>Sat</td>\n",
       "      <td>Oct</td>\n",
       "      <td>2022</td>\n",
       "      <td>2022-10-15</td>\n",
       "      <td>557</td>\n",
       "      <td>...</td>\n",
       "      <td>king created group bse</td>\n",
       "      <td>king created group bse</td>\n",
       "      <td>king created group bse</td>\n",
       "      <td>True</td>\n",
       "      <td>{'neg': 0.0, 'neu': 0.6, 'pos': 0.4, 'compound...</td>\n",
       "      <td>0.0</td>\n",
       "      <td>0.600</td>\n",
       "      <td>0.400</td>\n",
       "      <td>0.2500</td>\n",
       "      <td>positive</td>\n",
       "    </tr>\n",
       "    <tr>\n",
       "      <th>1</th>\n",
       "      <td>2022-10-16</td>\n",
       "      <td>11:24</td>\n",
       "      <td>paul added you</td>\n",
       "      <td>2022-10-16 11:24:00</td>\n",
       "      <td>11:00</td>\n",
       "      <td>Sun</td>\n",
       "      <td>Oct</td>\n",
       "      <td>2022</td>\n",
       "      <td>2022-10-16</td>\n",
       "      <td>557</td>\n",
       "      <td>...</td>\n",
       "      <td>paul added</td>\n",
       "      <td>paul added</td>\n",
       "      <td>paul added</td>\n",
       "      <td>True</td>\n",
       "      <td>{'neg': 0.0, 'neu': 1.0, 'pos': 0.0, 'compound...</td>\n",
       "      <td>0.0</td>\n",
       "      <td>1.000</td>\n",
       "      <td>0.000</td>\n",
       "      <td>0.0000</td>\n",
       "      <td>neutral</td>\n",
       "    </tr>\n",
       "    <tr>\n",
       "      <th>2</th>\n",
       "      <td>2022-10-16</td>\n",
       "      <td>11:26</td>\n",
       "      <td>you're now an admin</td>\n",
       "      <td>2022-10-16 11:26:00</td>\n",
       "      <td>11:00</td>\n",
       "      <td>Sun</td>\n",
       "      <td>Oct</td>\n",
       "      <td>2022</td>\n",
       "      <td>2022-10-16</td>\n",
       "      <td>557</td>\n",
       "      <td>...</td>\n",
       "      <td>admin</td>\n",
       "      <td>admin</td>\n",
       "      <td>admin</td>\n",
       "      <td>True</td>\n",
       "      <td>{'neg': 0.0, 'neu': 1.0, 'pos': 0.0, 'compound...</td>\n",
       "      <td>0.0</td>\n",
       "      <td>1.000</td>\n",
       "      <td>0.000</td>\n",
       "      <td>0.0000</td>\n",
       "      <td>neutral</td>\n",
       "    </tr>\n",
       "    <tr>\n",
       "      <th>3</th>\n",
       "      <td>2022-10-16</td>\n",
       "      <td>13:38</td>\n",
       "      <td>now king, are you happy now ?</td>\n",
       "      <td>2022-10-16 13:38:00</td>\n",
       "      <td>13:00</td>\n",
       "      <td>Sun</td>\n",
       "      <td>Oct</td>\n",
       "      <td>2022</td>\n",
       "      <td>2022-10-16</td>\n",
       "      <td>14</td>\n",
       "      <td>...</td>\n",
       "      <td>king happy</td>\n",
       "      <td>king happy</td>\n",
       "      <td>king happy</td>\n",
       "      <td>True</td>\n",
       "      <td>{'neg': 0.0, 'neu': 0.213, 'pos': 0.787, 'comp...</td>\n",
       "      <td>0.0</td>\n",
       "      <td>0.213</td>\n",
       "      <td>0.787</td>\n",
       "      <td>0.5719</td>\n",
       "      <td>positive</td>\n",
       "    </tr>\n",
       "    <tr>\n",
       "      <th>4</th>\n",
       "      <td>2022-10-16</td>\n",
       "      <td>13:38</td>\n",
       "      <td>king's shares in meta 📈🚀</td>\n",
       "      <td>2022-10-16 13:38:00</td>\n",
       "      <td>13:00</td>\n",
       "      <td>Sun</td>\n",
       "      <td>Oct</td>\n",
       "      <td>2022</td>\n",
       "      <td>2022-10-16</td>\n",
       "      <td>14</td>\n",
       "      <td>...</td>\n",
       "      <td>king shares meta</td>\n",
       "      <td>king shares meta</td>\n",
       "      <td>king shares meta</td>\n",
       "      <td>True</td>\n",
       "      <td>{'neg': 0.0, 'neu': 0.476, 'pos': 0.524, 'comp...</td>\n",
       "      <td>0.0</td>\n",
       "      <td>0.476</td>\n",
       "      <td>0.524</td>\n",
       "      <td>0.2960</td>\n",
       "      <td>positive</td>\n",
       "    </tr>\n",
       "  </tbody>\n",
       "</table>\n",
       "<p>5 rows × 21 columns</p>\n",
       "</div>"
      ],
      "text/plain": [
       "        Date   Time                        Message           Timestamp   hour  \\\n",
       "0 2022-10-15  22:49    king 🇺🇸 created group \"bse\" 2022-10-15 22:49:00  22:00   \n",
       "1 2022-10-16  11:24                 paul added you 2022-10-16 11:24:00  11:00   \n",
       "2 2022-10-16  11:26            you're now an admin 2022-10-16 11:26:00  11:00   \n",
       "3 2022-10-16  13:38  now king, are you happy now ? 2022-10-16 13:38:00  13:00   \n",
       "4 2022-10-16  13:38       king's shares in meta 📈🚀 2022-10-16 13:38:00  13:00   \n",
       "\n",
       "   day month  year        date  sender_randint  ...             text_string  \\\n",
       "0  Sat   Oct  2022  2022-10-15             557  ...  king created group bse   \n",
       "1  Sun   Oct  2022  2022-10-16             557  ...              paul added   \n",
       "2  Sun   Oct  2022  2022-10-16             557  ...                   admin   \n",
       "3  Sun   Oct  2022  2022-10-16              14  ...              king happy   \n",
       "4  Sun   Oct  2022  2022-10-16              14  ...        king shares meta   \n",
       "\n",
       "        text_string_fdist         text_string_lem is_equal  \\\n",
       "0  king created group bse  king created group bse     True   \n",
       "1              paul added              paul added     True   \n",
       "2                   admin                   admin     True   \n",
       "3              king happy              king happy     True   \n",
       "4        king shares meta        king shares meta     True   \n",
       "\n",
       "                                            polarity  neg    neu    pos  \\\n",
       "0  {'neg': 0.0, 'neu': 0.6, 'pos': 0.4, 'compound...  0.0  0.600  0.400   \n",
       "1  {'neg': 0.0, 'neu': 1.0, 'pos': 0.0, 'compound...  0.0  1.000  0.000   \n",
       "2  {'neg': 0.0, 'neu': 1.0, 'pos': 0.0, 'compound...  0.0  1.000  0.000   \n",
       "3  {'neg': 0.0, 'neu': 0.213, 'pos': 0.787, 'comp...  0.0  0.213  0.787   \n",
       "4  {'neg': 0.0, 'neu': 0.476, 'pos': 0.524, 'comp...  0.0  0.476  0.524   \n",
       "\n",
       "   compound  sentiment  \n",
       "0    0.2500   positive  \n",
       "1    0.0000    neutral  \n",
       "2    0.0000    neutral  \n",
       "3    0.5719   positive  \n",
       "4    0.2960   positive  \n",
       "\n",
       "[5 rows x 21 columns]"
      ]
     },
     "execution_count": 647,
     "metadata": {},
     "output_type": "execute_result"
    }
   ],
   "source": [
    "df3_messages = pd.DataFrame(df2_messages)\n",
    "df3_messages = df2_messages[df2_messages[\"Message\"] != \"<media omitted>\"] # removing media omitted\n",
    "df3_messages.head()"
   ]
  },
  {
   "cell_type": "code",
   "execution_count": 725,
   "id": "a97ca332",
   "metadata": {},
   "outputs": [],
   "source": [
    "df3_messages[\"word_count\"] = df3_messages['Message'].str.split().str.len()\n",
    "df3_messages['count'] = 1"
   ]
  },
  {
   "cell_type": "code",
   "execution_count": 726,
   "id": "049de662",
   "metadata": {},
   "outputs": [],
   "source": [
    "def flair_prediction(x):\n",
    "    sentence = Sentence(x)\n",
    "    sia.predict(sentence)\n",
    "    score = sentence.labels[0]\n",
    "    if \"POSITIVE\" in str(score):\n",
    "        return \"pos\"\n",
    "    elif \"NEGATIVE\" in str(score):\n",
    "        return \"neg\"\n",
    "    else:\n",
    "        return \"neu\"\n",
    "    \n",
    "def flair_prediction_value(x):\n",
    "    sentence = Sentence(x)\n",
    "    sia.predict(sentence)\n",
    "    score = sentence.labels[0]\n",
    "    return score.score"
   ]
  },
  {
   "cell_type": "code",
   "execution_count": 727,
   "id": "67e4a491",
   "metadata": {},
   "outputs": [
    {
     "name": "stdout",
     "output_type": "stream",
     "text": [
      "2022-12-08 18:22:53,266 loading file C:\\Users\\oriordanro\\.flair\\models\\sentiment-en-mix-distillbert_4.pt\n",
      "0:00:44.685535\n"
     ]
    }
   ],
   "source": [
    "sia = TextClassifier.load('en-sentiment')\n",
    "start = datetime.now()\n",
    "df3_messages[\"sentiment\"] = df3_messages['Message'].apply(flair_prediction)\n",
    "end = datetime.now()\n",
    "print(end - start)"
   ]
  },
  {
   "cell_type": "code",
   "execution_count": 728,
   "id": "f22ac12b",
   "metadata": {},
   "outputs": [],
   "source": [
    "df3_messages[\"pred_value\"] = df3_messages['Message'].apply(flair_prediction_value)"
   ]
  },
  {
   "cell_type": "markdown",
   "id": "23795717",
   "metadata": {},
   "source": [
    "## Flair Visualizations"
   ]
  },
  {
   "cell_type": "code",
   "execution_count": 718,
   "id": "b1215b61",
   "metadata": {},
   "outputs": [
    {
     "data": {
      "text/plain": [
       "Text(0, 0.5, '')"
      ]
     },
     "execution_count": 718,
     "metadata": {},
     "output_type": "execute_result"
    },
    {
     "data": {
      "image/png": "[encoded data removed]",
      "text/plain": [
       "<Figure size 432x288 with 1 Axes>"
      ]
     },
     "metadata": {
      "needs_background": "light"
     },
     "output_type": "display_data"
    }
   ],
   "source": [
    "# Number of tweets \n",
    "sns.countplot(y='sentiment', \n",
    "             data=df3_messages, \n",
    "             palette=['red',\"green\"],\n",
    "             )\n",
    "plt.xlabel(xlabel = None)\n",
    "plt.ylabel(ylabel = None)"
   ]
  },
  {
   "cell_type": "code",
   "execution_count": 729,
   "id": "16a13b23",
   "metadata": {},
   "outputs": [
    {
     "data": {
      "text/plain": [
       "<matplotlib.legend.Legend at 0x1e1a6e652e0>"
      ]
     },
     "execution_count": 729,
     "metadata": {},
     "output_type": "execute_result"
    },
    {
     "data": {
      "image/png": "[encoded data removed]",
      "text/plain": [
       "<Figure size 720x432 with 1 Axes>"
      ]
     },
     "metadata": {
      "needs_background": "light"
     },
     "output_type": "display_data"
    }
   ],
   "source": [
    "sent_count_sender_flair = df3_messages.reset_index().groupby([\"sender_randint\",\"sentiment\"]).count().sort_values(ascending = True,by=[\"sender_randint\",\"sentiment\",\"index\",])[\"index\"]\n",
    "\n",
    "sent_count_sender_flair.unstack().plot(kind='bar'\n",
    "                    , stacked=True\n",
    "                    , color=['red', 'green']\n",
    "                    , figsize = (10,6)\n",
    "                    , title = 'Sentiment Split by Sender (Total)'\n",
    "            )\n",
    "\n",
    "plt.xlabel('')\n",
    "plt.ylabel('Message Count')\n",
    "plt.legend(bbox_to_anchor=(1,1))"
   ]
  },
  {
   "cell_type": "code",
   "execution_count": 730,
   "id": "1c0e1689",
   "metadata": {},
   "outputs": [
    {
     "data": {
      "image/png": "[encoded data removed]",
      "text/plain": [
       "<Figure size 720x432 with 1 Axes>"
      ]
     },
     "metadata": {
      "needs_background": "light"
     },
     "output_type": "display_data"
    }
   ],
   "source": [
    "senetiment_split_perc_flair = df3_messages.reset_index().groupby([\"sender_randint\",\"sentiment\"]).count().sort_values(ascending = True,by=[\"sender_randint\",\"sentiment\",\"index\",])[\"index\"]\n",
    "# test_2['total'] = test_2.groupby(\"Sender\").sum()\n",
    "senetiment_split_perc_flair = pd.DataFrame(data = senetiment_split_perc_flair, columns = ['index'])\n",
    "senetiment_split_perc_flair.rename(columns = {\"index\": \"message_count\"}, inplace = True)\n",
    "senetiment_split_perc_2_flair = senetiment_split_perc_flair.groupby('sender_randint').sum('message_count')\n",
    "senetiment_split_perc_2_flair = senetiment_split_perc_flair.merge(senetiment_split_perc_2_flair, how = 'left', left_index = True, right_index = True)\n",
    "senetiment_split_perc_2_flair.rename(columns = {\"message_count_x\": \"message_count\"\n",
    "                        ,\"message_count_y\": \"total_messages\"}, inplace = True)\n",
    "senetiment_split_perc_2_flair['%_of_total'] = round(senetiment_split_perc_2_flair['message_count'] *1.0/ senetiment_split_perc_2_flair['total_messages'],2)\n",
    "senetiment_split_perc_2_flair.head(3)\n",
    "\n",
    "senetiment_split_perc_2_flair.unstack().plot(kind='bar'\n",
    "                    ,stacked = True\n",
    "                    , color=['red','green']\n",
    "                    , figsize = (10,6)\n",
    "                    , y = \"%_of_total\"  \n",
    "                    , title = \"Sentiment Split by Sender (%)\"\n",
    "            )\n",
    "\n",
    "plt.gca().yaxis.set_major_formatter(ticker.PercentFormatter(xmax=1.0))\n",
    "plt.ylabel('Percent')\n",
    "plt.xlabel(xlabel = None)\n",
    "plt.legend(bbox_to_anchor=(1,1))\n",
    "plt.show()"
   ]
  },
  {
   "cell_type": "markdown",
   "id": "2158afa5",
   "metadata": {},
   "source": [
    "### Looking at messages with >80% Flair prediction value"
   ]
  },
  {
   "cell_type": "code",
   "execution_count": 715,
   "id": "2e1319bf",
   "metadata": {},
   "outputs": [
    {
     "name": "stdout",
     "output_type": "stream",
     "text": [
      "577\n",
      "697\n"
     ]
    }
   ],
   "source": [
    "print(len(df3_messages[df3_messages['pred_value'] > .80]))\n",
    "print(len(df3_messages))"
   ]
  },
  {
   "cell_type": "code",
   "execution_count": 731,
   "id": "771326d6",
   "metadata": {},
   "outputs": [
    {
     "data": {
      "text/plain": [
       "<matplotlib.legend.Legend at 0x1e1a7137340>"
      ]
     },
     "execution_count": 731,
     "metadata": {},
     "output_type": "execute_result"
    },
    {
     "data": {
      "image/png": "[encoded data removed]",
      "text/plain": [
       "<Figure size 720x432 with 1 Axes>"
      ]
     },
     "metadata": {
      "needs_background": "light"
     },
     "output_type": "display_data"
    }
   ],
   "source": [
    "df3_messages_pred_80 = df3_messages[df3_messages['pred_value'] > .80]\n",
    "\n",
    "sent_count_sender_flair_80 = df3_messages_pred_80.reset_index().groupby([\"sender_randint\",\"sentiment\"]).count().sort_values(ascending = True,by=[\"sender_randint\",\"sentiment\",\"index\",])[\"index\"]\n",
    "\n",
    "sentiment_split_perc_flair_80 = df3_messages_pred_80.reset_index().groupby([\"sender_randint\",\"sentiment\"]).count().sort_values(ascending = True,by=[\"sender_randint\",\"sentiment\",\"index\",])[\"index\"]\n",
    "# test_2['total'] = test_2.groupby(\"Sender\").sum()\n",
    "sentiment_split_perc_flair_80 = pd.DataFrame(data = sentiment_split_perc_flair_80, columns = ['index'])\n",
    "sentiment_split_perc_flair_80.rename(columns = {\"index\": \"message_count\"}, inplace = True)\n",
    "sentiment_split_perc_2_flair_80 = sentiment_split_perc_flair_80.groupby('sender_randint').sum('message_count')\n",
    "sentiment_split_perc_2_flair_80 = sentiment_split_perc_flair_80.merge(sentiment_split_perc_2_flair_80, how = 'left', left_index = True, right_index = True)\n",
    "sentiment_split_perc_2_flair_80.rename(columns = {\"message_count_x\": \"message_count\"\n",
    "                        ,\"message_count_y\": \"total_messages\"}, inplace = True)\n",
    "sentiment_split_perc_2_flair_80['%_of_total'] = round(sentiment_split_perc_2_flair_80['message_count'] *1.0/ sentiment_split_perc_2_flair_80['total_messages'],2)\n",
    "\n",
    "sent_count_sender_flair_80.unstack().plot(kind='bar'\n",
    "                    , stacked=True\n",
    "                    , color=['red', 'green']\n",
    "                    , figsize = (10,6)\n",
    "                    , title = 'Sentiment Split by Sender (Total) (Probability >= 80)'\n",
    "            )\n",
    "\n",
    "plt.xlabel('Sender')\n",
    "plt.ylabel('Message Count')\n",
    "plt.legend(bbox_to_anchor=(1,1))"
   ]
  },
  {
   "cell_type": "code",
   "execution_count": 732,
   "id": "1ab85b89",
   "metadata": {},
   "outputs": [
    {
     "data": {
      "image/png": "[encoded data removed]",
      "text/plain": [
       "<Figure size 720x432 with 1 Axes>"
      ]
     },
     "metadata": {
      "needs_background": "light"
     },
     "output_type": "display_data"
    }
   ],
   "source": [
    "sentiment_split_perc_2_flair_80.unstack().plot(kind='bar'\n",
    "                    ,stacked = True\n",
    "                    , color=['red', 'green']\n",
    "                    , figsize = (10,6)\n",
    "                    , y = \"%_of_total\"  \n",
    "                    , title = \"Sentiment Split by Sender (%) (Probability >= 80)\"\n",
    "            )\n",
    "\n",
    "plt.gca().yaxis.set_major_formatter(ticker.PercentFormatter(xmax=1.0))\n",
    "plt.ylabel(ylabel = None)\n",
    "plt.xlabel(xlabel = 'Sender')\n",
    "plt.legend(bbox_to_anchor=(1,1))\n",
    "plt.show()"
   ]
  }
 ],
 "metadata": {
  "kernelspec": {
   "display_name": "Python 3 (ipykernel)",
   "language": "python",
   "name": "python3"
  },
  "language_info": {
   "codemirror_mode": {
    "name": "ipython",
    "version": 3
   },
   "file_extension": ".py",
   "mimetype": "text/x-python",
   "name": "python",
   "nbconvert_exporter": "python",
   "pygments_lexer": "ipython3",
   "version": "3.9.12"
  }
 },
 "nbformat": 4,
 "nbformat_minor": 5
}
