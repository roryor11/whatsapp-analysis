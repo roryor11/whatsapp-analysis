{
 "cells": [
  {
   "cell_type": "code",
   "execution_count": 57,
   "id": "82cceec0",
   "metadata": {},
   "outputs": [],
   "source": [
    "import re\n",
    "import datetime\n",
    "import numpy as np\n",
    "import pandas as pd\n",
    "import matplotlib.pyplot as plt\n",
    "import matplotlib.ticker as ticker\n",
    "import seaborn as sns\n",
    "from wordcloud import WordCloud, STOPWORDS\n",
    "import emoji\n",
    "import itertools \n",
    "from collections import Counter\n",
    "import warnings\n",
    "import random\n",
    "\n",
    "%matplotlib inline\n",
    "warnings.filterwarnings('ignore')"
   ]
  },
  {
   "cell_type": "code",
   "execution_count": 58,
   "id": "5c546f48",
   "metadata": {},
   "outputs": [],
   "source": [
    "# Using data exported from a Whatsapp group throug my cell/mobile phone\n",
    "# Exported the chat, and shared with myself via email. It comes as a .txt file\n",
    "# Unable to export the chat via the Whatsapp web version at this moment\n",
    "\n",
    "chat_file = open(\"C:\\\\Users\\\\oriordanro\\\\Downloads\\\\WhatsApp Chat with lads.txt\", encoding=\"utf-8\")"
   ]
  },
  {
   "cell_type": "code",
   "execution_count": 59,
   "id": "20d276fe",
   "metadata": {},
   "outputs": [],
   "source": [
    "# Creating functions to deal with the .txt file\n",
    "\n",
    "def date_time(s):\n",
    "    pattern = '^([0-9]+)(\\/)([0-9]+)(\\/)([0-9]+), ([0-9]+):([0-9]+)[ ]?(AM|PM|am|pm)? -'\n",
    "    result = re.match(pattern, s)\n",
    "    if result:\n",
    "        return True\n",
    "    return False\n",
    "\n",
    "def find_author(s):\n",
    "    s = s.split(\":\")\n",
    "    if len(s)==2:\n",
    "        return True\n",
    "    else:\n",
    "        return False\n",
    "\n",
    "def getDatapoint(line):\n",
    "    splitline = line.split(' - ')\n",
    "    dateTime = splitline[0]\n",
    "    date, time = dateTime.split(\", \")\n",
    "    message = \" \".join(splitline[1:])\n",
    "    if find_author(message):\n",
    "        splitmessage = message.split(\": \")\n",
    "        author = splitmessage[0]\n",
    "        message = \" \".join(splitmessage[1:])\n",
    "    else:\n",
    "        author= None\n",
    "    return date, time, author, message"
   ]
  },
  {
   "cell_type": "code",
   "execution_count": 60,
   "id": "c3309f58",
   "metadata": {},
   "outputs": [],
   "source": [
    "data = []\n",
    "conversation = \"C:\\\\Users\\\\oriordanro\\\\Downloads\\\\WhatsApp Chat with lads.txt\"\n",
    "with open(conversation, encoding=\"utf-8\") as fp:\n",
    "    fp.readline()\n",
    "    messageBuffer = []\n",
    "    date, time, author = None, None, None\n",
    "    while True:\n",
    "        line = fp.readline()\n",
    "        if not line:\n",
    "            break\n",
    "        line = line.strip()\n",
    "        if date_time(line):\n",
    "            if len(messageBuffer) > 0:\n",
    "                data.append([date, time, author, ' '.join(messageBuffer)])\n",
    "            messageBuffer.clear()\n",
    "            date, time, author, message = getDatapoint(line)\n",
    "            messageBuffer.append(message)\n",
    "        else:\n",
    "            messageBuffer.append(line)"
   ]
  },
  {
   "cell_type": "code",
   "execution_count": 61,
   "id": "52ccb701",
   "metadata": {},
   "outputs": [],
   "source": [
    "# Converting the message text to lower\n",
    "# Adding different date groups\n",
    "\n",
    "df = pd.DataFrame(data, columns=[\"Date\", 'Time', 'Sender', 'Message'])\n",
    "df[\"Timestamp\"] = pd.to_datetime(df[\"Date\"] + ' ' + df[\"Time\"])\n",
    "df['Date'] = pd.to_datetime(df['Date'])\n",
    "df['Message'] = df['Message'].astype(str).str.lower()\n",
    "df['hour'] = df['Timestamp'].dt.strftime('%H:00')\n",
    "df['day'] = df['Date'].dt.strftime('%a')\n",
    "df['month'] = df['Date'].dt.strftime('%b')\n",
    "df['year'] = df['Date'].dt.year\n",
    "df['date'] = df['Date'].apply(lambda x: x.date())"
   ]
  },
  {
   "cell_type": "code",
   "execution_count": 62,
   "id": "da6bc551",
   "metadata": {},
   "outputs": [
    {
     "data": {
      "text/html": [
       "<div>\n",
       "<style scoped>\n",
       "    .dataframe tbody tr th:only-of-type {\n",
       "        vertical-align: middle;\n",
       "    }\n",
       "\n",
       "    .dataframe tbody tr th {\n",
       "        vertical-align: top;\n",
       "    }\n",
       "\n",
       "    .dataframe thead th {\n",
       "        text-align: right;\n",
       "    }\n",
       "</style>\n",
       "<table border=\"1\" class=\"dataframe\">\n",
       "  <thead>\n",
       "    <tr style=\"text-align: right;\">\n",
       "      <th></th>\n",
       "      <th>Date</th>\n",
       "      <th>Time</th>\n",
       "      <th>Message</th>\n",
       "      <th>Timestamp</th>\n",
       "      <th>hour</th>\n",
       "      <th>day</th>\n",
       "      <th>month</th>\n",
       "      <th>year</th>\n",
       "      <th>date</th>\n",
       "      <th>sender_randint</th>\n",
       "    </tr>\n",
       "  </thead>\n",
       "  <tbody>\n",
       "    <tr>\n",
       "      <th>0</th>\n",
       "      <td>2022-10-15</td>\n",
       "      <td>22:49</td>\n",
       "      <td>king 🇺🇸 created group \"bse\"</td>\n",
       "      <td>2022-10-15 22:49:00</td>\n",
       "      <td>22:00</td>\n",
       "      <td>Sat</td>\n",
       "      <td>Oct</td>\n",
       "      <td>2022</td>\n",
       "      <td>2022-10-15</td>\n",
       "      <td>846</td>\n",
       "    </tr>\n",
       "    <tr>\n",
       "      <th>1</th>\n",
       "      <td>2022-10-16</td>\n",
       "      <td>11:24</td>\n",
       "      <td>paul added you</td>\n",
       "      <td>2022-10-16 11:24:00</td>\n",
       "      <td>11:00</td>\n",
       "      <td>Sun</td>\n",
       "      <td>Oct</td>\n",
       "      <td>2022</td>\n",
       "      <td>2022-10-16</td>\n",
       "      <td>846</td>\n",
       "    </tr>\n",
       "    <tr>\n",
       "      <th>2</th>\n",
       "      <td>2022-10-16</td>\n",
       "      <td>11:26</td>\n",
       "      <td>you're now an admin</td>\n",
       "      <td>2022-10-16 11:26:00</td>\n",
       "      <td>11:00</td>\n",
       "      <td>Sun</td>\n",
       "      <td>Oct</td>\n",
       "      <td>2022</td>\n",
       "      <td>2022-10-16</td>\n",
       "      <td>846</td>\n",
       "    </tr>\n",
       "    <tr>\n",
       "      <th>3</th>\n",
       "      <td>2022-10-16</td>\n",
       "      <td>13:38</td>\n",
       "      <td>now king, are you happy now ?</td>\n",
       "      <td>2022-10-16 13:38:00</td>\n",
       "      <td>13:00</td>\n",
       "      <td>Sun</td>\n",
       "      <td>Oct</td>\n",
       "      <td>2022</td>\n",
       "      <td>2022-10-16</td>\n",
       "      <td>826</td>\n",
       "    </tr>\n",
       "    <tr>\n",
       "      <th>4</th>\n",
       "      <td>2022-10-16</td>\n",
       "      <td>13:38</td>\n",
       "      <td>king's shares in meta 📈🚀</td>\n",
       "      <td>2022-10-16 13:38:00</td>\n",
       "      <td>13:00</td>\n",
       "      <td>Sun</td>\n",
       "      <td>Oct</td>\n",
       "      <td>2022</td>\n",
       "      <td>2022-10-16</td>\n",
       "      <td>826</td>\n",
       "    </tr>\n",
       "  </tbody>\n",
       "</table>\n",
       "</div>"
      ],
      "text/plain": [
       "        Date   Time                        Message           Timestamp   hour  \\\n",
       "0 2022-10-15  22:49    king 🇺🇸 created group \"bse\" 2022-10-15 22:49:00  22:00   \n",
       "1 2022-10-16  11:24                 paul added you 2022-10-16 11:24:00  11:00   \n",
       "2 2022-10-16  11:26            you're now an admin 2022-10-16 11:26:00  11:00   \n",
       "3 2022-10-16  13:38  now king, are you happy now ? 2022-10-16 13:38:00  13:00   \n",
       "4 2022-10-16  13:38       king's shares in meta 📈🚀 2022-10-16 13:38:00  13:00   \n",
       "\n",
       "   day month  year        date  sender_randint  \n",
       "0  Sat   Oct  2022  2022-10-15             846  \n",
       "1  Sun   Oct  2022  2022-10-16             846  \n",
       "2  Sun   Oct  2022  2022-10-16             846  \n",
       "3  Sun   Oct  2022  2022-10-16             826  \n",
       "4  Sun   Oct  2022  2022-10-16             826  "
      ]
     },
     "execution_count": 62,
     "metadata": {},
     "output_type": "execute_result"
    }
   ],
   "source": [
    "# Removing sender name and replacing them with random int\n",
    "\n",
    "sender_list = [i for i in df['Sender'].unique()]\n",
    "sender_list = pd.DataFrame(sender_list, columns = ['Sender'])\n",
    "sender_list.sort_values(by = 'Sender', inplace = True)\n",
    "sender_list.reset_index(inplace = True)\n",
    "sender_list.drop(['index'], axis = 1, inplace = True)\n",
    "sender_list['sender_randint'] = [ random.randint(1,1000) for i in sender_list.index]\n",
    "\n",
    "df = df.merge(sender_list, how='left', on = 'Sender')\n",
    "df.drop('Sender', axis = 1, inplace = True)\n",
    "\n",
    "# Using a copy of the original data frame\n",
    "df1 = df.copy()  \n",
    "df1.head()"
   ]
  },
  {
   "cell_type": "markdown",
   "id": "4c65a8a7",
   "metadata": {},
   "source": [
    "# Sentiment Analysis"
   ]
  },
  {
   "cell_type": "markdown",
   "id": "690c74d0",
   "metadata": {},
   "source": [
    "## NLTK (VADER)"
   ]
  },
  {
   "cell_type": "code",
   "execution_count": 63,
   "id": "6a870b9e",
   "metadata": {},
   "outputs": [],
   "source": [
    "import nltk\n",
    "from nltk.tokenize import RegexpTokenizer\n",
    "from nltk.probability import FreqDist"
   ]
  },
  {
   "cell_type": "code",
   "execution_count": 64,
   "id": "de8d9557",
   "metadata": {
    "collapsed": true
   },
   "outputs": [
    {
     "name": "stderr",
     "output_type": "stream",
     "text": [
      "[nltk_data] Downloading package names to\n",
      "[nltk_data]     C:\\Users\\oriordanro\\AppData\\Roaming\\nltk_data...\n",
      "[nltk_data]   Package names is already up-to-date!\n",
      "[nltk_data] Downloading package stopwords to\n",
      "[nltk_data]     C:\\Users\\oriordanro\\AppData\\Roaming\\nltk_data...\n",
      "[nltk_data]   Package stopwords is already up-to-date!\n",
      "[nltk_data] Downloading package state_union to\n",
      "[nltk_data]     C:\\Users\\oriordanro\\AppData\\Roaming\\nltk_data...\n",
      "[nltk_data]   Package state_union is already up-to-date!\n",
      "[nltk_data] Downloading package twitter_samples to\n",
      "[nltk_data]     C:\\Users\\oriordanro\\AppData\\Roaming\\nltk_data...\n",
      "[nltk_data]   Package twitter_samples is already up-to-date!\n",
      "[nltk_data] Downloading package movie_reviews to\n",
      "[nltk_data]     C:\\Users\\oriordanro\\AppData\\Roaming\\nltk_data...\n",
      "[nltk_data]   Package movie_reviews is already up-to-date!\n",
      "[nltk_data] Downloading package averaged_perceptron_tagger to\n",
      "[nltk_data]     C:\\Users\\oriordanro\\AppData\\Roaming\\nltk_data...\n",
      "[nltk_data]   Package averaged_perceptron_tagger is already up-to-\n",
      "[nltk_data]       date!\n",
      "[nltk_data] Downloading package vader_lexicon to\n",
      "[nltk_data]     C:\\Users\\oriordanro\\AppData\\Roaming\\nltk_data...\n",
      "[nltk_data]   Package vader_lexicon is already up-to-date!\n",
      "[nltk_data] Downloading package punkt to\n",
      "[nltk_data]     C:\\Users\\oriordanro\\AppData\\Roaming\\nltk_data...\n",
      "[nltk_data]   Package punkt is already up-to-date!\n"
     ]
    },
    {
     "data": {
      "text/plain": [
       "True"
      ]
     },
     "execution_count": 64,
     "metadata": {},
     "output_type": "execute_result"
    }
   ],
   "source": [
    "nltk.download([\n",
    "     \"names\",\n",
    "     \"stopwords\",\n",
    "     \"state_union\",\n",
    "     \"twitter_samples\",\n",
    "     \"movie_reviews\",\n",
    "     \"averaged_perceptron_tagger\",\n",
    "     \"vader_lexicon\",\n",
    "     \"punkt\",])"
   ]
  },
  {
   "cell_type": "code",
   "execution_count": 65,
   "id": "24e5fde5",
   "metadata": {},
   "outputs": [],
   "source": [
    "# Removing unnecessary words\n",
    "\n",
    "removed_list = [\"the\", \"jpg\" , \"file\", \"attached\", \"img\", \"WA0000\", \"mp4\", \"VID\", \"Media\", \"omitted\"\n",
    "                 , \"omitted>\", \"<media\", \",\", \".\", \"ya\", \"ye\", \"?\", \"yeah\", \"https\", \"s\"] + list(STOPWORDS)\n",
    "\n",
    "stopwords = removed_list + nltk.corpus.stopwords.words(\"english\")"
   ]
  },
  {
   "cell_type": "code",
   "execution_count": 66,
   "id": "0a4f81b5",
   "metadata": {},
   "outputs": [],
   "source": [
    "# removing media omitted\n",
    "\n",
    "df2_messages = pd.DataFrame(df1)\n",
    "df2_messages = df2_messages[df2_messages[\"Message\"] != \"<media omitted>\"] "
   ]
  },
  {
   "cell_type": "code",
   "execution_count": 67,
   "id": "9db3595a",
   "metadata": {},
   "outputs": [],
   "source": [
    "regexp = RegexpTokenizer('\\w+')\n",
    "\n",
    "df2_messages['text_token']=df2_messages[\"Message\"].apply(regexp.tokenize)"
   ]
  },
  {
   "cell_type": "code",
   "execution_count": 68,
   "id": "94e2ce72",
   "metadata": {},
   "outputs": [],
   "source": [
    "# removing stop words\n",
    "df2_messages['text_token'] = df2_messages['text_token'].apply(lambda x: [item for item in x if item not in removed_list])\n",
    "\n",
    "# removing infrequent words\n",
    "df2_messages['text_string'] = df2_messages['text_token'].apply(lambda x: ' '.join([item for item in x if len(item)>2]))"
   ]
  },
  {
   "cell_type": "code",
   "execution_count": 69,
   "id": "dadeeebc",
   "metadata": {},
   "outputs": [],
   "source": [
    "# create a list of all words\n",
    "all_words = ' '.join([word for word in df2_messages['text_string']])\n",
    "\n",
    "# Tokenize all_words\n",
    "tokenized_words = nltk.tokenize.word_tokenize(all_words)"
   ]
  },
  {
   "cell_type": "code",
   "execution_count": 70,
   "id": "5b448b62",
   "metadata": {},
   "outputs": [
    {
     "data": {
      "text/plain": [
       "FreqDist({'haha': 40, 'man': 26, 'now': 25, 'king': 22, 'fossa': 21, 'damo': 19, 'going': 17, 'well': 17, 'back': 17, 'group': 16, ...})"
      ]
     },
     "execution_count": 70,
     "metadata": {},
     "output_type": "execute_result"
    }
   ],
   "source": [
    "fdist = FreqDist(tokenized_words)\n",
    "fdist"
   ]
  },
  {
   "cell_type": "code",
   "execution_count": 71,
   "id": "ae9c4861",
   "metadata": {},
   "outputs": [],
   "source": [
    "df2_messages['text_string_fdist'] = df2_messages['text_token'].apply(lambda x: ' '.join([item for item in x if fdist[item] >= 1 ]))"
   ]
  },
  {
   "cell_type": "code",
   "execution_count": 72,
   "id": "fa4a4307",
   "metadata": {},
   "outputs": [],
   "source": [
    "from nltk.stem import WordNetLemmatizer"
   ]
  },
  {
   "cell_type": "code",
   "execution_count": 73,
   "id": "454620d2",
   "metadata": {},
   "outputs": [],
   "source": [
    "wordnet_lem = WordNetLemmatizer()\n",
    "\n",
    "df2_messages['text_string_lem'] = df2_messages['text_string_fdist'].apply(wordnet_lem.lemmatize)"
   ]
  },
  {
   "cell_type": "code",
   "execution_count": 74,
   "id": "be240ee9",
   "metadata": {},
   "outputs": [
    {
     "data": {
      "text/plain": [
       "True     694\n",
       "False      3\n",
       "Name: is_equal, dtype: int64"
      ]
     },
     "execution_count": 74,
     "metadata": {},
     "output_type": "execute_result"
    }
   ],
   "source": [
    "df2_messages['is_equal']= (df2_messages['text_string_fdist']==df2_messages['text_string_lem'])\n",
    "df2_messages.is_equal.value_counts()"
   ]
  },
  {
   "cell_type": "code",
   "execution_count": 75,
   "id": "a51b3ef4",
   "metadata": {},
   "outputs": [],
   "source": [
    "all_words_lem = ' '.join([word for word in df2_messages['text_string_lem']])"
   ]
  },
  {
   "cell_type": "code",
   "execution_count": 76,
   "id": "e98b0e85",
   "metadata": {},
   "outputs": [],
   "source": [
    "from nltk.tokenize import word_tokenize\n",
    "from nltk.probability import FreqDist\n",
    "from nltk.sentiment import SentimentIntensityAnalyzer"
   ]
  },
  {
   "cell_type": "code",
   "execution_count": 77,
   "id": "e586a8cf",
   "metadata": {},
   "outputs": [],
   "source": [
    "analyzer = SentimentIntensityAnalyzer()"
   ]
  },
  {
   "cell_type": "code",
   "execution_count": 78,
   "id": "81f8cc2a",
   "metadata": {},
   "outputs": [],
   "source": [
    "# Polarity scores\n",
    "df2_messages['polarity'] = df2_messages['text_string_lem'].apply(lambda x: analyzer.polarity_scores(x))"
   ]
  },
  {
   "cell_type": "code",
   "execution_count": 79,
   "id": "4789c6e9",
   "metadata": {},
   "outputs": [],
   "source": [
    "df2_messages = pd.concat(\n",
    "    [df2_messages\n",
    "     ,df2_messages['polarity'].apply(pd.Series)], axis=1)"
   ]
  },
  {
   "cell_type": "code",
   "execution_count": 80,
   "id": "d01a5b65",
   "metadata": {},
   "outputs": [
    {
     "data": {
      "text/html": [
       "<div>\n",
       "<style scoped>\n",
       "    .dataframe tbody tr th:only-of-type {\n",
       "        vertical-align: middle;\n",
       "    }\n",
       "\n",
       "    .dataframe tbody tr th {\n",
       "        vertical-align: top;\n",
       "    }\n",
       "\n",
       "    .dataframe thead th {\n",
       "        text-align: right;\n",
       "    }\n",
       "</style>\n",
       "<table border=\"1\" class=\"dataframe\">\n",
       "  <thead>\n",
       "    <tr style=\"text-align: right;\">\n",
       "      <th></th>\n",
       "      <th>Date</th>\n",
       "      <th>Time</th>\n",
       "      <th>Message</th>\n",
       "      <th>Timestamp</th>\n",
       "      <th>hour</th>\n",
       "      <th>day</th>\n",
       "      <th>month</th>\n",
       "      <th>year</th>\n",
       "      <th>date</th>\n",
       "      <th>sender_randint</th>\n",
       "      <th>...</th>\n",
       "      <th>text_string</th>\n",
       "      <th>text_string_fdist</th>\n",
       "      <th>text_string_lem</th>\n",
       "      <th>is_equal</th>\n",
       "      <th>polarity</th>\n",
       "      <th>neg</th>\n",
       "      <th>neu</th>\n",
       "      <th>pos</th>\n",
       "      <th>compound</th>\n",
       "      <th>sentiment</th>\n",
       "    </tr>\n",
       "  </thead>\n",
       "  <tbody>\n",
       "    <tr>\n",
       "      <th>0</th>\n",
       "      <td>2022-10-15</td>\n",
       "      <td>22:49</td>\n",
       "      <td>king 🇺🇸 created group \"bse\"</td>\n",
       "      <td>2022-10-15 22:49:00</td>\n",
       "      <td>22:00</td>\n",
       "      <td>Sat</td>\n",
       "      <td>Oct</td>\n",
       "      <td>2022</td>\n",
       "      <td>2022-10-15</td>\n",
       "      <td>846</td>\n",
       "      <td>...</td>\n",
       "      <td>king created group bse</td>\n",
       "      <td>king created group bse</td>\n",
       "      <td>king created group bse</td>\n",
       "      <td>True</td>\n",
       "      <td>{'neg': 0.0, 'neu': 0.6, 'pos': 0.4, 'compound...</td>\n",
       "      <td>0.0</td>\n",
       "      <td>0.600</td>\n",
       "      <td>0.400</td>\n",
       "      <td>0.2500</td>\n",
       "      <td>positive</td>\n",
       "    </tr>\n",
       "    <tr>\n",
       "      <th>1</th>\n",
       "      <td>2022-10-16</td>\n",
       "      <td>11:24</td>\n",
       "      <td>paul added you</td>\n",
       "      <td>2022-10-16 11:24:00</td>\n",
       "      <td>11:00</td>\n",
       "      <td>Sun</td>\n",
       "      <td>Oct</td>\n",
       "      <td>2022</td>\n",
       "      <td>2022-10-16</td>\n",
       "      <td>846</td>\n",
       "      <td>...</td>\n",
       "      <td>paul added</td>\n",
       "      <td>paul added</td>\n",
       "      <td>paul added</td>\n",
       "      <td>True</td>\n",
       "      <td>{'neg': 0.0, 'neu': 1.0, 'pos': 0.0, 'compound...</td>\n",
       "      <td>0.0</td>\n",
       "      <td>1.000</td>\n",
       "      <td>0.000</td>\n",
       "      <td>0.0000</td>\n",
       "      <td>neutral</td>\n",
       "    </tr>\n",
       "    <tr>\n",
       "      <th>2</th>\n",
       "      <td>2022-10-16</td>\n",
       "      <td>11:26</td>\n",
       "      <td>you're now an admin</td>\n",
       "      <td>2022-10-16 11:26:00</td>\n",
       "      <td>11:00</td>\n",
       "      <td>Sun</td>\n",
       "      <td>Oct</td>\n",
       "      <td>2022</td>\n",
       "      <td>2022-10-16</td>\n",
       "      <td>846</td>\n",
       "      <td>...</td>\n",
       "      <td>now admin</td>\n",
       "      <td>now admin</td>\n",
       "      <td>now admin</td>\n",
       "      <td>True</td>\n",
       "      <td>{'neg': 0.0, 'neu': 1.0, 'pos': 0.0, 'compound...</td>\n",
       "      <td>0.0</td>\n",
       "      <td>1.000</td>\n",
       "      <td>0.000</td>\n",
       "      <td>0.0000</td>\n",
       "      <td>neutral</td>\n",
       "    </tr>\n",
       "    <tr>\n",
       "      <th>3</th>\n",
       "      <td>2022-10-16</td>\n",
       "      <td>13:38</td>\n",
       "      <td>now king, are you happy now ?</td>\n",
       "      <td>2022-10-16 13:38:00</td>\n",
       "      <td>13:00</td>\n",
       "      <td>Sun</td>\n",
       "      <td>Oct</td>\n",
       "      <td>2022</td>\n",
       "      <td>2022-10-16</td>\n",
       "      <td>826</td>\n",
       "      <td>...</td>\n",
       "      <td>now king happy now</td>\n",
       "      <td>now king happy now</td>\n",
       "      <td>now king happy now</td>\n",
       "      <td>True</td>\n",
       "      <td>{'neg': 0.0, 'neu': 0.448, 'pos': 0.552, 'comp...</td>\n",
       "      <td>0.0</td>\n",
       "      <td>0.448</td>\n",
       "      <td>0.552</td>\n",
       "      <td>0.5719</td>\n",
       "      <td>positive</td>\n",
       "    </tr>\n",
       "  </tbody>\n",
       "</table>\n",
       "<p>4 rows × 21 columns</p>\n",
       "</div>"
      ],
      "text/plain": [
       "        Date   Time                        Message           Timestamp   hour  \\\n",
       "0 2022-10-15  22:49    king 🇺🇸 created group \"bse\" 2022-10-15 22:49:00  22:00   \n",
       "1 2022-10-16  11:24                 paul added you 2022-10-16 11:24:00  11:00   \n",
       "2 2022-10-16  11:26            you're now an admin 2022-10-16 11:26:00  11:00   \n",
       "3 2022-10-16  13:38  now king, are you happy now ? 2022-10-16 13:38:00  13:00   \n",
       "\n",
       "   day month  year        date  sender_randint  ...             text_string  \\\n",
       "0  Sat   Oct  2022  2022-10-15             846  ...  king created group bse   \n",
       "1  Sun   Oct  2022  2022-10-16             846  ...              paul added   \n",
       "2  Sun   Oct  2022  2022-10-16             846  ...               now admin   \n",
       "3  Sun   Oct  2022  2022-10-16             826  ...      now king happy now   \n",
       "\n",
       "        text_string_fdist         text_string_lem is_equal  \\\n",
       "0  king created group bse  king created group bse     True   \n",
       "1              paul added              paul added     True   \n",
       "2               now admin               now admin     True   \n",
       "3      now king happy now      now king happy now     True   \n",
       "\n",
       "                                            polarity  neg    neu    pos  \\\n",
       "0  {'neg': 0.0, 'neu': 0.6, 'pos': 0.4, 'compound...  0.0  0.600  0.400   \n",
       "1  {'neg': 0.0, 'neu': 1.0, 'pos': 0.0, 'compound...  0.0  1.000  0.000   \n",
       "2  {'neg': 0.0, 'neu': 1.0, 'pos': 0.0, 'compound...  0.0  1.000  0.000   \n",
       "3  {'neg': 0.0, 'neu': 0.448, 'pos': 0.552, 'comp...  0.0  0.448  0.552   \n",
       "\n",
       "   compound  sentiment  \n",
       "0    0.2500   positive  \n",
       "1    0.0000    neutral  \n",
       "2    0.0000    neutral  \n",
       "3    0.5719   positive  \n",
       "\n",
       "[4 rows x 21 columns]"
      ]
     },
     "execution_count": 80,
     "metadata": {},
     "output_type": "execute_result"
    }
   ],
   "source": [
    "# Create new variable with sentiment \"neutral,\" \"positive\" and \"negative\"\n",
    "df2_messages['sentiment'] = df2_messages['compound'].apply(lambda x: 'positive' if x >0 else 'neutral' if x==0 else 'negative')\n",
    "df2_messages.head(4)"
   ]
  },
  {
   "cell_type": "markdown",
   "id": "572ee0c3",
   "metadata": {},
   "source": [
    "### Overall sentiment split"
   ]
  },
  {
   "cell_type": "code",
   "execution_count": 90,
   "id": "2e9652da",
   "metadata": {},
   "outputs": [
    {
     "data": {
      "text/plain": [
       "[Text(0, 0.5, ''),\n",
       " Text(0.5, 0, ''),\n",
       " Text(0.5, 1.0, 'Message Count by Sentiment')]"
      ]
     },
     "execution_count": 90,
     "metadata": {},
     "output_type": "execute_result"
    },
    {
     "data": {
      "image/png": "[encoded data removed]",
      "text/plain": [
       "<Figure size 432x288 with 1 Axes>"
      ]
     },
     "metadata": {
      "needs_background": "light"
     },
     "output_type": "display_data"
    }
   ],
   "source": [
    "g = sns.countplot(y='sentiment', \n",
    "             data=df2_messages, \n",
    "             palette=['green','skyblue','red'])\n",
    "\n",
    "g.set(ylabel= None\n",
    "     ,xlabel = None\n",
    "     ,title = 'Message Count by Sentiment'\n",
    "     )"
   ]
  },
  {
   "cell_type": "markdown",
   "id": "4e2295f9",
   "metadata": {},
   "source": [
    "### Total compound by sender"
   ]
  },
  {
   "cell_type": "code",
   "execution_count": 87,
   "id": "f33ca3db",
   "metadata": {},
   "outputs": [
    {
     "data": {
      "text/plain": [
       "Text(0.5, 1.0, 'Compound Total by Sender')"
      ]
     },
     "execution_count": 87,
     "metadata": {},
     "output_type": "execute_result"
    },
    {
     "data": {
      "image/png": "[encoded data removed]",
      "text/plain": [
       "<Figure size 720x432 with 1 Axes>"
      ]
     },
     "metadata": {
      "needs_background": "light"
     },
     "output_type": "display_data"
    }
   ],
   "source": [
    "tot_comp_sender = pd.DataFrame(df2_messages.groupby(\"sender_randint\").sum(\"compound\")['compound'].sort_values(ascending = False))\n",
    "\n",
    "# Total Compound Sender\n",
    "tot_comp_sender.plot(kind = 'bar'\n",
    "                    , stacked=True\n",
    "                    , figsize = (10,6)\n",
    "            )\n",
    "\n",
    "plt.xlabel(xlabel = None)\n",
    "plt.xticks(rotation=90, fontsize=10)\n",
    "plt.ylabel('Compound Total')\n",
    "plt.xlabel('Sender')\n",
    "plt.title('Compound Total by Sender')"
   ]
  },
  {
   "cell_type": "markdown",
   "id": "097fa069",
   "metadata": {},
   "source": [
    "### Sentiment split by sender "
   ]
  },
  {
   "cell_type": "markdown",
   "id": "9bc9bf93",
   "metadata": {},
   "source": [
    "#### (i)"
   ]
  },
  {
   "cell_type": "code",
   "execution_count": 88,
   "id": "cd8e1451",
   "metadata": {},
   "outputs": [
    {
     "data": {
      "text/plain": [
       "<matplotlib.legend.Legend at 0x17c6d64d100>"
      ]
     },
     "execution_count": 88,
     "metadata": {},
     "output_type": "execute_result"
    },
    {
     "data": {
      "image/png": "[encoded data removed]",
      "text/plain": [
       "<Figure size 720x432 with 1 Axes>"
      ]
     },
     "metadata": {
      "needs_background": "light"
     },
     "output_type": "display_data"
    }
   ],
   "source": [
    "sentiment_count_sender = df2_messages.reset_index().groupby([\"sender_randint\",\"sentiment\"]).count().sort_values(ascending = True,by=[\"sender_randint\",\"sentiment\",\"index\",])[\"index\"]\n",
    "\n",
    "sentiment_count_sender.unstack().plot(kind='bar'\n",
    "                    , stacked=True\n",
    "                    , color=['red', 'skyblue', 'green']\n",
    "                    , figsize = (10,6)\n",
    "                    , title = 'Sentiment Split by Sender (Total)'\n",
    "            )\n",
    "\n",
    "plt.xlabel('Sender')\n",
    "plt.ylabel('Message Count')\n",
    "plt.legend(bbox_to_anchor=(1,1))"
   ]
  },
  {
   "cell_type": "markdown",
   "id": "5c38c9a6",
   "metadata": {},
   "source": [
    "#### (ii)"
   ]
  },
  {
   "cell_type": "code",
   "execution_count": 89,
   "id": "f9a87749",
   "metadata": {},
   "outputs": [
    {
     "data": {
      "image/png": "[encoded data removed]",
      "text/plain": [
       "<Figure size 720x432 with 1 Axes>"
      ]
     },
     "metadata": {
      "needs_background": "light"
     },
     "output_type": "display_data"
    }
   ],
   "source": [
    "senetiment_split_perc = df2_messages.reset_index().groupby([\"sender_randint\",\"sentiment\"]).count().sort_values(ascending = True,by=[\"sender_randint\",\"sentiment\",\"index\",])[\"index\"]\n",
    "# test_2['total'] = test_2.groupby(\"Sender\").sum()\n",
    "senetiment_split_perc = pd.DataFrame(data = senetiment_split_perc, columns = ['index'])\n",
    "senetiment_split_perc.rename(columns = {\"index\": \"message_count\"}, inplace = True)\n",
    "senetiment_split_perc_2 = senetiment_split_perc.groupby('sender_randint').sum('message_count')\n",
    "senetiment_split_perc_2 = senetiment_split_perc.merge(senetiment_split_perc_2, how = 'left', left_index = True, right_index = True)\n",
    "senetiment_split_perc_2.rename(columns = {\"message_count_x\": \"message_count\"\n",
    "                        ,\"message_count_y\": \"total_messages\"}, inplace = True)\n",
    "senetiment_split_perc_2['%_of_total'] = round(senetiment_split_perc_2['message_count'] *1.0/ senetiment_split_perc_2['total_messages'],2)\n",
    "\n",
    "\n",
    "senetiment_split_perc_2.unstack().plot(kind='bar'\n",
    "                    ,stacked = True\n",
    "                    , color=['red', 'skyblue', 'green']\n",
    "                    , figsize = (10,6)\n",
    "                    , y = \"%_of_total\"  \n",
    "                    , title = \"Sentiment Split by Sender (%)\"\n",
    "            )\n",
    "\n",
    "plt.gca().yaxis.set_major_formatter(ticker.PercentFormatter(xmax=1.0))\n",
    "plt.ylabel('Percent')\n",
    "plt.xlabel('Sender')\n",
    "plt.legend(bbox_to_anchor=(1,1))\n",
    "plt.show()"
   ]
  },
  {
   "cell_type": "markdown",
   "id": "138d6e40",
   "metadata": {},
   "source": [
    "#### Word cloud"
   ]
  },
  {
   "cell_type": "code",
   "execution_count": null,
   "id": "01e89ede",
   "metadata": {},
   "outputs": [],
   "source": [
    "removed_list = [\"the\", \"jpg\" , \"file\", \"attached\", \"img\", \"WA0000\", \"mp4\", \"VID\", \"Media\", \"omitted\"\n",
    "                 , \"omitted>\", \"<media\", \",\", \".\", \"ya\", \"ye\", \"?\", \"yeah\", \"https\", \"s\"] + list(STOPWORDS)\n",
    "\n",
    "text = \" \".join(review for review in df1.Message)\n",
    "wordcloud = WordCloud(stopwords = removed_list\n",
    "                      ,background_color=\"white\"\n",
    "                      ,max_words = 100\n",
    "                      ,prefer_horizontal=1\n",
    "                     ).generate(text)\n",
    "\n",
    "  ### Display the generated image:\n",
    "plt.figure( figsize=(10,6))\n",
    "plt.imshow(wordcloud, interpolation='bilinear')\n",
    "plt.axis(\"off\")\n",
    "plt.show()"
   ]
  },
  {
   "cell_type": "code",
   "execution_count": null,
   "id": "412e82aa",
   "metadata": {},
   "outputs": [],
   "source": []
  },
  {
   "cell_type": "markdown",
   "id": "4aee8187",
   "metadata": {},
   "source": [
    "## Flair"
   ]
  },
  {
   "cell_type": "code",
   "execution_count": 91,
   "id": "23164bfd",
   "metadata": {},
   "outputs": [],
   "source": [
    "from flair.models import TextClassifier\n",
    "from flair.data import Sentence\n",
    "from datetime import datetime\n",
    "import time"
   ]
  },
  {
   "cell_type": "code",
   "execution_count": 93,
   "id": "d9059340",
   "metadata": {},
   "outputs": [],
   "source": [
    "df3_messages = df1.copy()\n",
    "\n",
    "df3_messages = pd.DataFrame(df2_messages)\n",
    "df3_messages = df2_messages[df2_messages[\"Message\"] != \"<media omitted>\"] # removing media omitted"
   ]
  },
  {
   "cell_type": "code",
   "execution_count": 94,
   "id": "47000a6a",
   "metadata": {},
   "outputs": [],
   "source": [
    "df3_messages[\"word_count\"] = df3_messages['Message'].str.split().str.len()\n",
    "df3_messages['count'] = 1"
   ]
  },
  {
   "cell_type": "code",
   "execution_count": 95,
   "id": "f37ad3db",
   "metadata": {},
   "outputs": [],
   "source": [
    "def flair_prediction(x):\n",
    "    sentence = Sentence(x)\n",
    "    sia.predict(sentence)\n",
    "    score = sentence.labels[0]\n",
    "    if \"POSITIVE\" in str(score):\n",
    "        return \"pos\"\n",
    "    elif \"NEGATIVE\" in str(score):\n",
    "        return \"neg\"\n",
    "    else:\n",
    "        return \"neu\"\n",
    "    \n",
    "def flair_prediction_value(x):\n",
    "    sentence = Sentence(x)\n",
    "    sia.predict(sentence)\n",
    "    score = sentence.labels[0]\n",
    "    return score.score"
   ]
  },
  {
   "cell_type": "code",
   "execution_count": 96,
   "id": "2224fcd4",
   "metadata": {},
   "outputs": [
    {
     "name": "stdout",
     "output_type": "stream",
     "text": [
      "2022-12-12 22:03:09,026 loading file C:\\Users\\oriordanro\\.flair\\models\\sentiment-en-mix-distillbert_4.pt\n",
      "0:00:28.491586\n"
     ]
    }
   ],
   "source": [
    "sia = TextClassifier.load('en-sentiment')\n",
    "start = datetime.now()\n",
    "df3_messages[\"sentiment\"] = df3_messages['Message'].apply(flair_prediction)\n",
    "end = datetime.now()\n",
    "print(end - start)"
   ]
  },
  {
   "cell_type": "code",
   "execution_count": 97,
   "id": "fa097b4d",
   "metadata": {},
   "outputs": [],
   "source": [
    "df3_messages[\"pred_value\"] = df3_messages['Message'].apply(flair_prediction_value)"
   ]
  },
  {
   "cell_type": "markdown",
   "id": "aff31301",
   "metadata": {},
   "source": [
    "### Flair Visualizations"
   ]
  },
  {
   "cell_type": "code",
   "execution_count": 101,
   "id": "57b76238",
   "metadata": {},
   "outputs": [
    {
     "data": {
      "text/plain": [
       "[Text(0.5, 0, ''),\n",
       " Text(0, 0.5, ''),\n",
       " Text(0.5, 1.0, 'Message Count by Sentiment')]"
      ]
     },
     "execution_count": 101,
     "metadata": {},
     "output_type": "execute_result"
    },
    {
     "data": {
      "image/png": "[encoded data removed]",
      "text/plain": [
       "<Figure size 432x288 with 1 Axes>"
      ]
     },
     "metadata": {
      "needs_background": "light"
     },
     "output_type": "display_data"
    }
   ],
   "source": [
    "# Number of tweets \n",
    "g = sns.countplot(y='sentiment', \n",
    "             data=df3_messages, \n",
    "             palette=['red',\"green\"],\n",
    "             )\n",
    "g.set(xlabel = None\n",
    "     ,ylabel = None\n",
    "    ,title ='Message Count by Sentiment'\n",
    "     )\n"
   ]
  },
  {
   "cell_type": "code",
   "execution_count": 102,
   "id": "df4bcfa2",
   "metadata": {},
   "outputs": [
    {
     "data": {
      "text/plain": [
       "<matplotlib.legend.Legend at 0x17c02515bb0>"
      ]
     },
     "execution_count": 102,
     "metadata": {},
     "output_type": "execute_result"
    },
    {
     "data": {
      "image/png": "[encoded data removed]",
      "text/plain": [
       "<Figure size 720x432 with 1 Axes>"
      ]
     },
     "metadata": {
      "needs_background": "light"
     },
     "output_type": "display_data"
    }
   ],
   "source": [
    "sent_count_sender_flair = df3_messages.reset_index().groupby([\"sender_randint\",\"sentiment\"]).count().sort_values(ascending = True,by=[\"sender_randint\",\"sentiment\",\"index\",])[\"index\"]\n",
    "\n",
    "sent_count_sender_flair.unstack().plot(kind='bar'\n",
    "                    , stacked=True\n",
    "                    , color=['red', 'green']\n",
    "                    , figsize = (10,6)\n",
    "                    , title = 'Sentiment Split by Sender (Total)'\n",
    "            )\n",
    "\n",
    "plt.xlabel('')\n",
    "plt.ylabel('Message Count')\n",
    "plt.legend(bbox_to_anchor=(1,1))"
   ]
  },
  {
   "cell_type": "code",
   "execution_count": 103,
   "id": "a57a0887",
   "metadata": {},
   "outputs": [
    {
     "data": {
      "image/png": "[encoded data removed]",
      "text/plain": [
       "<Figure size 720x432 with 1 Axes>"
      ]
     },
     "metadata": {
      "needs_background": "light"
     },
     "output_type": "display_data"
    }
   ],
   "source": [
    "senetiment_split_perc_flair = df3_messages.reset_index().groupby([\"sender_randint\",\"sentiment\"]).count().sort_values(ascending = True,by=[\"sender_randint\",\"sentiment\",\"index\",])[\"index\"]\n",
    "# test_2['total'] = test_2.groupby(\"Sender\").sum()\n",
    "senetiment_split_perc_flair = pd.DataFrame(data = senetiment_split_perc_flair, columns = ['index'])\n",
    "senetiment_split_perc_flair.rename(columns = {\"index\": \"message_count\"}, inplace = True)\n",
    "senetiment_split_perc_2_flair = senetiment_split_perc_flair.groupby('sender_randint').sum('message_count')\n",
    "senetiment_split_perc_2_flair = senetiment_split_perc_flair.merge(senetiment_split_perc_2_flair, how = 'left', left_index = True, right_index = True)\n",
    "senetiment_split_perc_2_flair.rename(columns = {\"message_count_x\": \"message_count\"\n",
    "                        ,\"message_count_y\": \"total_messages\"}, inplace = True)\n",
    "senetiment_split_perc_2_flair['%_of_total'] = round(senetiment_split_perc_2_flair['message_count'] *1.0/ senetiment_split_perc_2_flair['total_messages'],2)\n",
    "senetiment_split_perc_2_flair.head(3)\n",
    "\n",
    "senetiment_split_perc_2_flair.unstack().plot(kind='bar'\n",
    "                    ,stacked = True\n",
    "                    , color=['red','green']\n",
    "                    , figsize = (10,6)\n",
    "                    , y = \"%_of_total\"  \n",
    "                    , title = \"Sentiment Split by Sender (%)\"\n",
    "            )\n",
    "\n",
    "plt.gca().yaxis.set_major_formatter(ticker.PercentFormatter(xmax=1.0))\n",
    "plt.ylabel('Percent')\n",
    "plt.xlabel(xlabel = None)\n",
    "plt.legend(bbox_to_anchor=(1,1))\n",
    "plt.show()"
   ]
  },
  {
   "cell_type": "markdown",
   "id": "73668694",
   "metadata": {},
   "source": [
    "### Looking at messages with >80% Flair prediction value"
   ]
  },
  {
   "cell_type": "code",
   "execution_count": 104,
   "id": "ce60e131",
   "metadata": {},
   "outputs": [
    {
     "name": "stdout",
     "output_type": "stream",
     "text": [
      "577\n",
      "697\n"
     ]
    }
   ],
   "source": [
    "print(len(df3_messages[df3_messages['pred_value'] > .80]))\n",
    "print(len(df3_messages))"
   ]
  },
  {
   "cell_type": "code",
   "execution_count": 105,
   "id": "e878d7c2",
   "metadata": {},
   "outputs": [
    {
     "data": {
      "text/plain": [
       "<matplotlib.legend.Legend at 0x17c04e3e280>"
      ]
     },
     "execution_count": 105,
     "metadata": {},
     "output_type": "execute_result"
    },
    {
     "data": {
      "image/png": "[encoded data removed]",
      "text/plain": [
       "<Figure size 720x432 with 1 Axes>"
      ]
     },
     "metadata": {
      "needs_background": "light"
     },
     "output_type": "display_data"
    }
   ],
   "source": [
    "df3_messages_pred_80 = df3_messages[df3_messages['pred_value'] > .80]\n",
    "\n",
    "sent_count_sender_flair_80 = df3_messages_pred_80.reset_index().groupby([\"sender_randint\",\"sentiment\"]).count().sort_values(ascending = True,by=[\"sender_randint\",\"sentiment\",\"index\",])[\"index\"]\n",
    "\n",
    "sentiment_split_perc_flair_80 = df3_messages_pred_80.reset_index().groupby([\"sender_randint\",\"sentiment\"]).count().sort_values(ascending = True,by=[\"sender_randint\",\"sentiment\",\"index\",])[\"index\"]\n",
    "# test_2['total'] = test_2.groupby(\"Sender\").sum()\n",
    "sentiment_split_perc_flair_80 = pd.DataFrame(data = sentiment_split_perc_flair_80, columns = ['index'])\n",
    "sentiment_split_perc_flair_80.rename(columns = {\"index\": \"message_count\"}, inplace = True)\n",
    "sentiment_split_perc_2_flair_80 = sentiment_split_perc_flair_80.groupby('sender_randint').sum('message_count')\n",
    "sentiment_split_perc_2_flair_80 = sentiment_split_perc_flair_80.merge(sentiment_split_perc_2_flair_80, how = 'left', left_index = True, right_index = True)\n",
    "sentiment_split_perc_2_flair_80.rename(columns = {\"message_count_x\": \"message_count\"\n",
    "                        ,\"message_count_y\": \"total_messages\"}, inplace = True)\n",
    "sentiment_split_perc_2_flair_80['%_of_total'] = round(sentiment_split_perc_2_flair_80['message_count'] *1.0/ sentiment_split_perc_2_flair_80['total_messages'],2)\n",
    "\n",
    "sent_count_sender_flair_80.unstack().plot(kind='bar'\n",
    "                    , stacked=True\n",
    "                    , color=['red', 'green']\n",
    "                    , figsize = (10,6)\n",
    "                    , title = 'Sentiment Split by Sender (Total) (Probability >= 80)'\n",
    "            )\n",
    "\n",
    "plt.xlabel('Sender')\n",
    "plt.ylabel('Message Count')\n",
    "plt.legend(bbox_to_anchor=(1,1))"
   ]
  },
  {
   "cell_type": "code",
   "execution_count": 106,
   "id": "8049f9ad",
   "metadata": {},
   "outputs": [
    {
     "data": {
      "image/png": "[encoded data removed]",
      "text/plain": [
       "<Figure size 720x432 with 1 Axes>"
      ]
     },
     "metadata": {
      "needs_background": "light"
     },
     "output_type": "display_data"
    }
   ],
   "source": [
    "sentiment_split_perc_2_flair_80.unstack().plot(kind='bar'\n",
    "                    ,stacked = True\n",
    "                    , color=['red', 'green']\n",
    "                    , figsize = (10,6)\n",
    "                    , y = \"%_of_total\"  \n",
    "                    , title = \"Sentiment Split by Sender (%) (Probability >= 80)\"\n",
    "            )\n",
    "\n",
    "plt.gca().yaxis.set_major_formatter(ticker.PercentFormatter(xmax=1.0))\n",
    "plt.ylabel(ylabel = None)\n",
    "plt.xlabel(xlabel = 'Sender')\n",
    "plt.legend(bbox_to_anchor=(1,1))\n",
    "plt.show()"
   ]
  },
  {
   "cell_type": "code",
   "execution_count": null,
   "id": "e1bca953",
   "metadata": {},
   "outputs": [],
   "source": []
  },
  {
   "cell_type": "code",
   "execution_count": null,
   "id": "033ec6bd",
   "metadata": {},
   "outputs": [],
   "source": []
  }
 ],
 "metadata": {
  "kernelspec": {
   "display_name": "Python 3 (ipykernel)",
   "language": "python",
   "name": "python3"
  },
  "language_info": {
   "codemirror_mode": {
    "name": "ipython",
    "version": 3
   },
   "file_extension": ".py",
   "mimetype": "text/x-python",
   "name": "python",
   "nbconvert_exporter": "python",
   "pygments_lexer": "ipython3",
   "version": "3.9.12"
  }
 },
 "nbformat": 4,
 "nbformat_minor": 5
}
